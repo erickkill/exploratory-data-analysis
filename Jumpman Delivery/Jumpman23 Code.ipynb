{
 "cells": [
  {
   "cell_type": "markdown",
   "metadata": {},
   "source": [
    "# Jumpman23 - New Market Analysis, New York City\n",
    "\n",
    "Jumpman23 is an on-demand delivery platform connecting \"Jumpmen\" and customers purchasing a variety of goods. Jumpman23 will send Jumpmen to merchants to purchase and pickup any items requested by the customer. Whenever possible, Jumpman23 will order the requested items ahead to save the Jumpmen time. Each time a Jumpman23 delivery is completed, a record is saved to the Jumpman23 database that contains information about that delivery. Jumpman23 is growing fast and has just launched in its newest market - New York City\n",
    "\n",
    "# Dataset"
   ]
  },
  {
   "cell_type": "code",
   "execution_count": 48,
   "metadata": {},
   "outputs": [],
   "source": [
    "import pandas as pd\n",
    "import numpy as np\n",
    "import matplotlib.pyplot as plt\n",
    "import seaborn as sns\n",
    "from datetime import datetime, date"
   ]
  },
  {
   "cell_type": "code",
   "execution_count": 49,
   "metadata": {},
   "outputs": [],
   "source": [
    "#read in dataset\n",
    "jumpman23 = pd.read_csv(\"analyze_me.csv\")"
   ]
  },
  {
   "cell_type": "code",
   "execution_count": null,
   "metadata": {},
   "outputs": [],
   "source": [
    "jumpman23.head()"
   ]
  },
  {
   "cell_type": "markdown",
   "metadata": {},
   "source": [
    "# Find Missing Values"
   ]
  },
  {
   "cell_type": "code",
   "execution_count": null,
   "metadata": {},
   "outputs": [],
   "source": [
    "#find missing values\n",
    "jumpman23.isnull().sum()"
   ]
  },
  {
   "cell_type": "code",
   "execution_count": null,
   "metadata": {},
   "outputs": [],
   "source": [
    "# check what percentage the missing values are of the entire proportion\n",
    "round((jumpman23.isnull().sum() / jumpman23.count()),2)*100"
   ]
  },
  {
   "cell_type": "markdown",
   "metadata": {},
   "source": [
    "Several variables are missing rows. It looks the variables that are missing any values are related to the restaurant and items. This could be variables that Jumpman23 has no control of inputting. Possibly it could mean the restaurant and the Jumpmen not recording information correctly.\n",
    "\n",
    "\n",
    "    - place_category\n",
    "    - item_name\n",
    "    - item_quantity\n",
    "    - item_category_name\n",
    "    - how_long_it_took_to_order\n",
    "    - when_the_Jumpman_arrived_at_pickup      \n",
    "    - when_the_Jumpman_left_pickup       "
   ]
  },
  {
   "cell_type": "code",
   "execution_count": null,
   "metadata": {},
   "outputs": [],
   "source": [
    "# count the rows in each column\n",
    "col_names = jumpman23.columns\n",
    "\n",
    "for col in col_names:\n",
    "    count = jumpman23[col].count()\n",
    "    print(\"{} row count: {}\".format(col, count))"
   ]
  },
  {
   "cell_type": "markdown",
   "metadata": {},
   "source": [
    "Some interesting information here.\n",
    "\n",
    "    1. We see information with \"item\" all have the same amount of data entries - all have 4753 entries\n",
    "    2. how_long_it_took_to_order is missing significantly more entries than any other column - total 3038 entries\n",
    "    3. jumpman arrival and departure from pickup location are the same but are missing approximately 500 entries from the entire dataset"
   ]
  },
  {
   "cell_type": "code",
   "execution_count": null,
   "metadata": {},
   "outputs": [],
   "source": [
    "#explore data types\n",
    "jumpman23.info()"
   ]
  },
  {
   "cell_type": "markdown",
   "metadata": {},
   "source": [
    "The last four columns should be tagged as datetime stamp."
   ]
  },
  {
   "cell_type": "markdown",
   "metadata": {},
   "source": [
    "-----------------------------------------------------"
   ]
  },
  {
   "cell_type": "markdown",
   "metadata": {},
   "source": [
    "# Timestamps\n",
    "Convert objects that should be timestamps"
   ]
  },
  {
   "cell_type": "code",
   "execution_count": 3,
   "metadata": {},
   "outputs": [],
   "source": [
    "#convert to datetime function\n",
    "def convert_to_datetime(col):\n",
    "    jumpman23[col] = pd.to_datetime(jumpman23[col])"
   ]
  },
  {
   "cell_type": "code",
   "execution_count": null,
   "metadata": {},
   "outputs": [],
   "source": [
    "jumpman23[\"when_the_delivery_started\"] = pd.to_datetime(jumpman23[\"when_the_delivery_started\"],  errors='ignore') "
   ]
  },
  {
   "cell_type": "code",
   "execution_count": 4,
   "metadata": {},
   "outputs": [],
   "source": [
    "#run function on columns that should be date time\n",
    "convert_to_datetime(\"when_the_delivery_started\")\n",
    "convert_to_datetime(\"when_the_Jumpman_arrived_at_pickup\")\n",
    "convert_to_datetime(\"when_the_Jumpman_left_pickup\")\n",
    "convert_to_datetime(\"when_the_Jumpman_arrived_at_dropoff\")"
   ]
  },
  {
   "cell_type": "code",
   "execution_count": 16,
   "metadata": {},
   "outputs": [],
   "source": [
    "# #if you wanted to split the date and time to separate columns\n",
    "# #jumpman23['Dates'] = pd.to_datetime(jumpman23['when_the_delivery_started']).dt.date\n",
    "# jumpman23['delivery_started'] = pd.to_datetime(jumpman23['when_the_delivery_started']).dt.time\n",
    "# jumpman23['jumpman_arrival'] = pd.to_datetime(jumpman23['when_the_Jumpman_arrived_at_pickup']).dt.time\n",
    "# jumpman23['jumpman_departure'] = pd.to_datetime(jumpman23['when_the_Jumpman_left_pickup']).dt.time\n",
    "# jumpman23['delivery_completed'] = pd.to_datetime(jumpman23['when_the_Jumpman_arrived_at_dropoff']).dt.time"
   ]
  },
  {
   "cell_type": "code",
   "execution_count": null,
   "metadata": {},
   "outputs": [],
   "source": [
    "jumpman23.head()"
   ]
  },
  {
   "cell_type": "markdown",
   "metadata": {},
   "source": [
    "### Overall time it takes from ordering to being delivered"
   ]
  },
  {
   "cell_type": "code",
   "execution_count": 14,
   "metadata": {},
   "outputs": [
    {
     "data": {
      "text/plain": [
       "Timedelta('0 days 00:45:45.633893')"
      ]
     },
     "execution_count": 14,
     "metadata": {},
     "output_type": "execute_result"
    }
   ],
   "source": [
    "not_missing_arrival = jumpman23[jumpman23[\"when_the_Jumpman_arrived_at_pickup\"].notnull()]\n",
    "(not_missing_arrival[\"when_the_Jumpman_arrived_at_dropoff\"] - not_missing_arrival[\"when_the_delivery_started\"]).mean()\n"
   ]
  },
  {
   "cell_type": "markdown",
   "metadata": {},
   "source": [
    "### Time it takes from order to arriving at store location for pickup"
   ]
  },
  {
   "cell_type": "code",
   "execution_count": 6,
   "metadata": {},
   "outputs": [
    {
     "data": {
      "text/plain": [
       "Timedelta('0 days 00:12:42.552907')"
      ]
     },
     "execution_count": 6,
     "metadata": {},
     "output_type": "execute_result"
    }
   ],
   "source": [
    "time_till_arrival = not_missing_arrival[\"when_the_Jumpman_arrived_at_pickup\"] - not_missing_arrival[\"when_the_delivery_started\"]\n",
    "time_till_arrival.mean()"
   ]
  },
  {
   "cell_type": "markdown",
   "metadata": {},
   "source": [
    "### Time it takes waiting at the location"
   ]
  },
  {
   "cell_type": "code",
   "execution_count": 7,
   "metadata": {},
   "outputs": [
    {
     "data": {
      "text/plain": [
       "Timedelta('0 days 00:18:54.965448')"
      ]
     },
     "execution_count": 7,
     "metadata": {},
     "output_type": "execute_result"
    }
   ],
   "source": [
    "time_waiting_restaurant = not_missing_arrival[\"when_the_Jumpman_left_pickup\"] - not_missing_arrival[\"when_the_Jumpman_arrived_at_pickup\"]\n",
    "time_waiting_restaurant.mean()"
   ]
  },
  {
   "cell_type": "markdown",
   "metadata": {},
   "source": [
    "### Time it takes when the item/food is ready to delivered"
   ]
  },
  {
   "cell_type": "code",
   "execution_count": 8,
   "metadata": {},
   "outputs": [
    {
     "data": {
      "text/plain": [
       "Timedelta('0 days 00:14:08.115537')"
      ]
     },
     "execution_count": 8,
     "metadata": {},
     "output_type": "execute_result"
    }
   ],
   "source": [
    "time_till_dropoff = not_missing_arrival[\"when_the_Jumpman_arrived_at_dropoff\"] - not_missing_arrival[\"when_the_Jumpman_left_pickup\"]\n",
    "time_till_dropoff.mean()"
   ]
  },
  {
   "cell_type": "markdown",
   "metadata": {},
   "source": [
    "### Overall time taken from ordering to delivery for missing Jumpan arrival/departure"
   ]
  },
  {
   "cell_type": "code",
   "execution_count": 9,
   "metadata": {},
   "outputs": [
    {
     "data": {
      "text/plain": [
       "Timedelta('0 days 00:49:14.894868')"
      ]
     },
     "execution_count": 9,
     "metadata": {},
     "output_type": "execute_result"
    }
   ],
   "source": [
    "missing_arrival = jumpman23[jumpman23[\"when_the_Jumpman_arrived_at_pickup\"].isnull()]\n",
    "(missing_arrival[\"when_the_Jumpman_arrived_at_dropoff\"] - missing_arrival[\"when_the_delivery_started\"]).mean()\n"
   ]
  },
  {
   "cell_type": "markdown",
   "metadata": {},
   "source": [
    "Looking at the time variables, we can see the biggest slow down in the process from pick up to delivery is when the driver arrives at the restaurant. There is on average an 19 min wait, which is a concern since we saw earlier than we had 500 missing values for jumpman logging in their arrival."
   ]
  },
  {
   "cell_type": "markdown",
   "metadata": {},
   "source": [
    "--------------------------------"
   ]
  },
  {
   "cell_type": "markdown",
   "metadata": {},
   "source": [
    "# Stores Missing Order Tracking\n",
    "Isolate a new dataframe to find information on stores where orders that weren't tracked."
   ]
  },
  {
   "cell_type": "code",
   "execution_count": 19,
   "metadata": {},
   "outputs": [
    {
     "data": {
      "text/html": [
       "<div>\n",
       "<style scoped>\n",
       "    .dataframe tbody tr th:only-of-type {\n",
       "        vertical-align: middle;\n",
       "    }\n",
       "\n",
       "    .dataframe tbody tr th {\n",
       "        vertical-align: top;\n",
       "    }\n",
       "\n",
       "    .dataframe thead th {\n",
       "        text-align: right;\n",
       "    }\n",
       "</style>\n",
       "<table border=\"1\" class=\"dataframe\">\n",
       "  <thead>\n",
       "    <tr style=\"text-align: right;\">\n",
       "      <th></th>\n",
       "      <th>delivery_id</th>\n",
       "      <th>customer_id</th>\n",
       "      <th>jumpman_id</th>\n",
       "      <th>vehicle_type</th>\n",
       "      <th>pickup_place</th>\n",
       "      <th>place_category</th>\n",
       "      <th>item_name</th>\n",
       "      <th>item_quantity</th>\n",
       "      <th>item_category_name</th>\n",
       "      <th>how_long_it_took_to_order</th>\n",
       "      <th>...</th>\n",
       "      <th>dropoff_lat</th>\n",
       "      <th>dropoff_lon</th>\n",
       "      <th>when_the_delivery_started</th>\n",
       "      <th>when_the_Jumpman_arrived_at_pickup</th>\n",
       "      <th>when_the_Jumpman_left_pickup</th>\n",
       "      <th>when_the_Jumpman_arrived_at_dropoff</th>\n",
       "      <th>delivery_started</th>\n",
       "      <th>jumpman_arrival</th>\n",
       "      <th>jumpman_departure</th>\n",
       "      <th>delivery_completed</th>\n",
       "    </tr>\n",
       "  </thead>\n",
       "  <tbody>\n",
       "    <tr>\n",
       "      <th>3</th>\n",
       "      <td>1485494</td>\n",
       "      <td>271149</td>\n",
       "      <td>157175</td>\n",
       "      <td>bicycle</td>\n",
       "      <td>Juice Press</td>\n",
       "      <td>Juice Bar</td>\n",
       "      <td>OMG! My Favorite Juice!</td>\n",
       "      <td>1.0</td>\n",
       "      <td>Cold Pressed Juices</td>\n",
       "      <td>NaN</td>\n",
       "      <td>...</td>\n",
       "      <td>40.751257</td>\n",
       "      <td>-74.005634</td>\n",
       "      <td>2014-10-30 10:54:11.531894</td>\n",
       "      <td>2014-10-30 11:04:17.759577</td>\n",
       "      <td>2014-10-30 11:16:37.895816</td>\n",
       "      <td>2014-10-30 11:32:38.090061</td>\n",
       "      <td>10:54:11.531894</td>\n",
       "      <td>11:04:17.759577</td>\n",
       "      <td>11:16:37.895816</td>\n",
       "      <td>11:32:38.090061</td>\n",
       "    </tr>\n",
       "    <tr>\n",
       "      <th>7</th>\n",
       "      <td>1311619</td>\n",
       "      <td>59161</td>\n",
       "      <td>79847</td>\n",
       "      <td>bicycle</td>\n",
       "      <td>Insomnia Cookies</td>\n",
       "      <td>Bakery</td>\n",
       "      <td>Chocolate Chunk</td>\n",
       "      <td>2.0</td>\n",
       "      <td>Cookies and Brownies</td>\n",
       "      <td>NaN</td>\n",
       "      <td>...</td>\n",
       "      <td>40.734703</td>\n",
       "      <td>-73.998206</td>\n",
       "      <td>2014-10-06 23:20:09.312584</td>\n",
       "      <td>2014-10-06 23:17:35.666950</td>\n",
       "      <td>2014-10-07 00:03:24.389592</td>\n",
       "      <td>2014-10-07 00:09:16.559521</td>\n",
       "      <td>23:20:09.312584</td>\n",
       "      <td>23:17:35.666950</td>\n",
       "      <td>00:03:24.389592</td>\n",
       "      <td>00:09:16.559521</td>\n",
       "    </tr>\n",
       "    <tr>\n",
       "      <th>8</th>\n",
       "      <td>1487674</td>\n",
       "      <td>55375</td>\n",
       "      <td>181543</td>\n",
       "      <td>bicycle</td>\n",
       "      <td>Cafe Zaiya</td>\n",
       "      <td>NaN</td>\n",
       "      <td>NaN</td>\n",
       "      <td>NaN</td>\n",
       "      <td>NaN</td>\n",
       "      <td>NaN</td>\n",
       "      <td>...</td>\n",
       "      <td>40.719758</td>\n",
       "      <td>-73.985011</td>\n",
       "      <td>2014-10-30 16:49:48.259935</td>\n",
       "      <td>2014-10-30 16:55:32.446053</td>\n",
       "      <td>2014-10-30 17:01:22.214264</td>\n",
       "      <td>2014-10-30 17:10:44.731901</td>\n",
       "      <td>16:49:48.259935</td>\n",
       "      <td>16:55:32.446053</td>\n",
       "      <td>17:01:22.214264</td>\n",
       "      <td>17:10:44.731901</td>\n",
       "    </tr>\n",
       "    <tr>\n",
       "      <th>9</th>\n",
       "      <td>1417206</td>\n",
       "      <td>153816</td>\n",
       "      <td>157415</td>\n",
       "      <td>car</td>\n",
       "      <td>Shake Shack</td>\n",
       "      <td>Burger</td>\n",
       "      <td>Shackburger</td>\n",
       "      <td>1.0</td>\n",
       "      <td>Burgers</td>\n",
       "      <td>NaN</td>\n",
       "      <td>...</td>\n",
       "      <td>40.743613</td>\n",
       "      <td>-73.977684</td>\n",
       "      <td>2014-10-21 21:18:37.909545</td>\n",
       "      <td>2014-10-21 21:20:14.434227</td>\n",
       "      <td>2014-10-21 21:47:03.624931</td>\n",
       "      <td>2014-10-21 21:59:26.081278</td>\n",
       "      <td>21:18:37.909545</td>\n",
       "      <td>21:20:14.434227</td>\n",
       "      <td>21:47:03.624931</td>\n",
       "      <td>21:59:26.081278</td>\n",
       "    </tr>\n",
       "    <tr>\n",
       "      <th>12</th>\n",
       "      <td>1302973</td>\n",
       "      <td>344631</td>\n",
       "      <td>64396</td>\n",
       "      <td>bicycle</td>\n",
       "      <td>Mighty Quinn's BBQ</td>\n",
       "      <td>BBQ</td>\n",
       "      <td>Spare Ribs</td>\n",
       "      <td>1.0</td>\n",
       "      <td>Meats</td>\n",
       "      <td>NaN</td>\n",
       "      <td>...</td>\n",
       "      <td>40.725486</td>\n",
       "      <td>-73.992819</td>\n",
       "      <td>2014-10-05 18:47:28.819056</td>\n",
       "      <td>2014-10-05 18:50:41.780487</td>\n",
       "      <td>2014-10-05 19:23:54.425485</td>\n",
       "      <td>2014-10-05 19:34:18.250581</td>\n",
       "      <td>18:47:28.819056</td>\n",
       "      <td>18:50:41.780487</td>\n",
       "      <td>19:23:54.425485</td>\n",
       "      <td>19:34:18.250581</td>\n",
       "    </tr>\n",
       "  </tbody>\n",
       "</table>\n",
       "<p>5 rows × 22 columns</p>\n",
       "</div>"
      ],
      "text/plain": [
       "    delivery_id  customer_id  jumpman_id vehicle_type        pickup_place  \\\n",
       "3       1485494       271149      157175      bicycle         Juice Press   \n",
       "7       1311619        59161       79847      bicycle    Insomnia Cookies   \n",
       "8       1487674        55375      181543      bicycle          Cafe Zaiya   \n",
       "9       1417206       153816      157415          car         Shake Shack   \n",
       "12      1302973       344631       64396      bicycle  Mighty Quinn's BBQ   \n",
       "\n",
       "   place_category                item_name  item_quantity  \\\n",
       "3       Juice Bar  OMG! My Favorite Juice!            1.0   \n",
       "7          Bakery          Chocolate Chunk            2.0   \n",
       "8             NaN                      NaN            NaN   \n",
       "9          Burger              Shackburger            1.0   \n",
       "12            BBQ               Spare Ribs            1.0   \n",
       "\n",
       "      item_category_name how_long_it_took_to_order  ...  dropoff_lat  \\\n",
       "3    Cold Pressed Juices                       NaN  ...    40.751257   \n",
       "7   Cookies and Brownies                       NaN  ...    40.734703   \n",
       "8                    NaN                       NaN  ...    40.719758   \n",
       "9                Burgers                       NaN  ...    40.743613   \n",
       "12                 Meats                       NaN  ...    40.725486   \n",
       "\n",
       "    dropoff_lon  when_the_delivery_started  \\\n",
       "3    -74.005634 2014-10-30 10:54:11.531894   \n",
       "7    -73.998206 2014-10-06 23:20:09.312584   \n",
       "8    -73.985011 2014-10-30 16:49:48.259935   \n",
       "9    -73.977684 2014-10-21 21:18:37.909545   \n",
       "12   -73.992819 2014-10-05 18:47:28.819056   \n",
       "\n",
       "    when_the_Jumpman_arrived_at_pickup when_the_Jumpman_left_pickup  \\\n",
       "3           2014-10-30 11:04:17.759577   2014-10-30 11:16:37.895816   \n",
       "7           2014-10-06 23:17:35.666950   2014-10-07 00:03:24.389592   \n",
       "8           2014-10-30 16:55:32.446053   2014-10-30 17:01:22.214264   \n",
       "9           2014-10-21 21:20:14.434227   2014-10-21 21:47:03.624931   \n",
       "12          2014-10-05 18:50:41.780487   2014-10-05 19:23:54.425485   \n",
       "\n",
       "   when_the_Jumpman_arrived_at_dropoff delivery_started  jumpman_arrival  \\\n",
       "3           2014-10-30 11:32:38.090061  10:54:11.531894  11:04:17.759577   \n",
       "7           2014-10-07 00:09:16.559521  23:20:09.312584  23:17:35.666950   \n",
       "8           2014-10-30 17:10:44.731901  16:49:48.259935  16:55:32.446053   \n",
       "9           2014-10-21 21:59:26.081278  21:18:37.909545  21:20:14.434227   \n",
       "12          2014-10-05 19:34:18.250581  18:47:28.819056  18:50:41.780487   \n",
       "\n",
       "   jumpman_departure delivery_completed  \n",
       "3    11:16:37.895816    11:32:38.090061  \n",
       "7    00:03:24.389592    00:09:16.559521  \n",
       "8    17:01:22.214264    17:10:44.731901  \n",
       "9    21:47:03.624931    21:59:26.081278  \n",
       "12   19:23:54.425485    19:34:18.250581  \n",
       "\n",
       "[5 rows x 22 columns]"
      ]
     },
     "execution_count": 19,
     "metadata": {},
     "output_type": "execute_result"
    }
   ],
   "source": [
    "# new dataframe with only values that are missing how_long_it_took\n",
    "missing_order_time = jumpman23[jumpman23[\"how_long_it_took_to_order\"].isnull()]\n",
    "missing_order_time.head()"
   ]
  },
  {
   "cell_type": "code",
   "execution_count": 20,
   "metadata": {},
   "outputs": [
    {
     "data": {
      "text/plain": [
       "Shake Shack                              311\n",
       "Momofuku Milk Bar                        186\n",
       "Blue Ribbon Fried Chicken                133\n",
       "Whole Foods Market                       119\n",
       "Mighty Quinn's BBQ                        90\n",
       "Chipotle Mexican Grill $1.99 Delivery     80\n",
       "Momofuku Noodle Bar                       74\n",
       "Hu Kitchen                                68\n",
       "Trader Joe's                              68\n",
       "Duane Reade                               64\n",
       "Name: pickup_place, dtype: int64"
      ]
     },
     "execution_count": 20,
     "metadata": {},
     "output_type": "execute_result"
    }
   ],
   "source": [
    "#top place where there is no record of time it takes to order\n",
    "missing_order_time[\"pickup_place\"].value_counts().nlargest(10)"
   ]
  },
  {
   "cell_type": "markdown",
   "metadata": {},
   "source": [
    "These missing values from these top stores could be due to the fact that customers know exactly what they need. These can be recognized as stores that customer would frequently order from, they could be reordering past orders which may possibly affect the time to order and record it incorrectly."
   ]
  },
  {
   "cell_type": "code",
   "execution_count": 21,
   "metadata": {},
   "outputs": [
    {
     "data": {
      "image/png": "[encoded data removed]",
      "text/plain": [
       "<Figure size 720x432 with 1 Axes>"
      ]
     },
     "metadata": {
      "needs_background": "light"
     },
     "output_type": "display_data"
    }
   ],
   "source": [
    "#Top stores that are missing order time\n",
    "plt.figure(figsize=(10,6))    \n",
    "clrs = ['grey' if (x < max(missing_order_time[\"pickup_place\"].value_counts())) else 'red' for x in missing_order_time[\"pickup_place\"].value_counts() ]\n",
    "sns.countplot(y=\"pickup_place\", data=missing_order_time, palette=clrs,\n",
    "              order=missing_order_time[\"pickup_place\"].value_counts().iloc[:5].index) \n",
    "sns.set_context('talk')\n",
    "plt.xlabel(\"Order Count\", fontsize = 20, labelpad = 20)\n",
    "plt.ylabel(\"Stores\", fontsize = 20, labelpad = 20)\n",
    "plt.title(\"Stores Missing - How Long it took to Order\", fontsize = 25, pad = 40)\n",
    "sns.despine(offset=10, trim=True)"
   ]
  },
  {
   "cell_type": "markdown",
   "metadata": {},
   "source": [
    "--------------------------------------------------------------------------------"
   ]
  },
  {
   "cell_type": "markdown",
   "metadata": {},
   "source": [
    "# Stores Not Missing Jumpman Arrival/Departure Timestamp\n",
    "Isolate a dataframe where Jumpman's arrival and departure from a store were not logged."
   ]
  },
  {
   "cell_type": "code",
   "execution_count": 26,
   "metadata": {},
   "outputs": [
    {
     "data": {
      "text/html": [
       "<div>\n",
       "<style scoped>\n",
       "    .dataframe tbody tr th:only-of-type {\n",
       "        vertical-align: middle;\n",
       "    }\n",
       "\n",
       "    .dataframe tbody tr th {\n",
       "        vertical-align: top;\n",
       "    }\n",
       "\n",
       "    .dataframe thead th {\n",
       "        text-align: right;\n",
       "    }\n",
       "</style>\n",
       "<table border=\"1\" class=\"dataframe\">\n",
       "  <thead>\n",
       "    <tr style=\"text-align: right;\">\n",
       "      <th></th>\n",
       "      <th>delivery_id</th>\n",
       "      <th>customer_id</th>\n",
       "      <th>jumpman_id</th>\n",
       "      <th>vehicle_type</th>\n",
       "      <th>pickup_place</th>\n",
       "      <th>place_category</th>\n",
       "      <th>item_name</th>\n",
       "      <th>item_quantity</th>\n",
       "      <th>item_category_name</th>\n",
       "      <th>how_long_it_took_to_order</th>\n",
       "      <th>...</th>\n",
       "      <th>dropoff_lat</th>\n",
       "      <th>dropoff_lon</th>\n",
       "      <th>when_the_delivery_started</th>\n",
       "      <th>when_the_Jumpman_arrived_at_pickup</th>\n",
       "      <th>when_the_Jumpman_left_pickup</th>\n",
       "      <th>when_the_Jumpman_arrived_at_dropoff</th>\n",
       "      <th>delivery_started</th>\n",
       "      <th>jumpman_arrival</th>\n",
       "      <th>jumpman_departure</th>\n",
       "      <th>delivery_completed</th>\n",
       "    </tr>\n",
       "  </thead>\n",
       "  <tbody>\n",
       "    <tr>\n",
       "      <th>1</th>\n",
       "      <td>1377056</td>\n",
       "      <td>64452</td>\n",
       "      <td>104533</td>\n",
       "      <td>bicycle</td>\n",
       "      <td>Prince Street Pizza</td>\n",
       "      <td>Pizza</td>\n",
       "      <td>Neapolitan Rice Balls</td>\n",
       "      <td>3.0</td>\n",
       "      <td>Munchables</td>\n",
       "      <td>00:25:09.107093</td>\n",
       "      <td>...</td>\n",
       "      <td>40.719722</td>\n",
       "      <td>-73.991858</td>\n",
       "      <td>2014-10-16 21:58:58.654910</td>\n",
       "      <td>2014-10-16 22:26:02.120931</td>\n",
       "      <td>2014-10-16 22:48:23.091253</td>\n",
       "      <td>2014-10-16 22:59:22.948873</td>\n",
       "      <td>21:58:58.654910</td>\n",
       "      <td>22:26:02.120931</td>\n",
       "      <td>22:48:23.091253</td>\n",
       "      <td>22:59:22.948873</td>\n",
       "    </tr>\n",
       "    <tr>\n",
       "      <th>2</th>\n",
       "      <td>1476547</td>\n",
       "      <td>83095</td>\n",
       "      <td>132725</td>\n",
       "      <td>bicycle</td>\n",
       "      <td>Bareburger</td>\n",
       "      <td>Burger</td>\n",
       "      <td>Bare Sodas</td>\n",
       "      <td>1.0</td>\n",
       "      <td>Drinks</td>\n",
       "      <td>00:06:44.541717</td>\n",
       "      <td>...</td>\n",
       "      <td>40.728606</td>\n",
       "      <td>-73.995143</td>\n",
       "      <td>2014-10-28 21:39:52.654394</td>\n",
       "      <td>2014-10-28 21:37:18.793405</td>\n",
       "      <td>2014-10-28 21:59:09.984810</td>\n",
       "      <td>2014-10-28 22:04:40.634962</td>\n",
       "      <td>21:39:52.654394</td>\n",
       "      <td>21:37:18.793405</td>\n",
       "      <td>21:59:09.984810</td>\n",
       "      <td>22:04:40.634962</td>\n",
       "    </tr>\n",
       "    <tr>\n",
       "      <th>3</th>\n",
       "      <td>1485494</td>\n",
       "      <td>271149</td>\n",
       "      <td>157175</td>\n",
       "      <td>bicycle</td>\n",
       "      <td>Juice Press</td>\n",
       "      <td>Juice Bar</td>\n",
       "      <td>OMG! My Favorite Juice!</td>\n",
       "      <td>1.0</td>\n",
       "      <td>Cold Pressed Juices</td>\n",
       "      <td>NaN</td>\n",
       "      <td>...</td>\n",
       "      <td>40.751257</td>\n",
       "      <td>-74.005634</td>\n",
       "      <td>2014-10-30 10:54:11.531894</td>\n",
       "      <td>2014-10-30 11:04:17.759577</td>\n",
       "      <td>2014-10-30 11:16:37.895816</td>\n",
       "      <td>2014-10-30 11:32:38.090061</td>\n",
       "      <td>10:54:11.531894</td>\n",
       "      <td>11:04:17.759577</td>\n",
       "      <td>11:16:37.895816</td>\n",
       "      <td>11:32:38.090061</td>\n",
       "    </tr>\n",
       "    <tr>\n",
       "      <th>4</th>\n",
       "      <td>1327707</td>\n",
       "      <td>122609</td>\n",
       "      <td>118095</td>\n",
       "      <td>bicycle</td>\n",
       "      <td>Blue Ribbon Sushi</td>\n",
       "      <td>Japanese</td>\n",
       "      <td>Spicy Tuna &amp; Tempura Flakes</td>\n",
       "      <td>2.0</td>\n",
       "      <td>Maki (Special Rolls)</td>\n",
       "      <td>00:03:45.035418</td>\n",
       "      <td>...</td>\n",
       "      <td>40.709323</td>\n",
       "      <td>-74.015867</td>\n",
       "      <td>2014-10-10 00:07:18.450505</td>\n",
       "      <td>2014-10-10 00:14:42.702223</td>\n",
       "      <td>2014-10-10 00:25:19.400294</td>\n",
       "      <td>2014-10-10 00:48:27.150595</td>\n",
       "      <td>00:07:18.450505</td>\n",
       "      <td>00:14:42.702223</td>\n",
       "      <td>00:25:19.400294</td>\n",
       "      <td>00:48:27.150595</td>\n",
       "    </tr>\n",
       "    <tr>\n",
       "      <th>5</th>\n",
       "      <td>1423142</td>\n",
       "      <td>75169</td>\n",
       "      <td>91932</td>\n",
       "      <td>bicycle</td>\n",
       "      <td>Tamarind TriBeCa</td>\n",
       "      <td>Indian</td>\n",
       "      <td>Dum Aloo Gobi</td>\n",
       "      <td>1.0</td>\n",
       "      <td>Vegetarian Specialties</td>\n",
       "      <td>00:07:14.327405</td>\n",
       "      <td>...</td>\n",
       "      <td>40.725678</td>\n",
       "      <td>-74.000618</td>\n",
       "      <td>2014-10-22 18:56:36.348939</td>\n",
       "      <td>2014-10-22 19:18:49.953427</td>\n",
       "      <td>2014-10-22 19:27:10.578970</td>\n",
       "      <td>2014-10-22 19:36:53.801191</td>\n",
       "      <td>18:56:36.348939</td>\n",
       "      <td>19:18:49.953427</td>\n",
       "      <td>19:27:10.578970</td>\n",
       "      <td>19:36:53.801191</td>\n",
       "    </tr>\n",
       "  </tbody>\n",
       "</table>\n",
       "<p>5 rows × 22 columns</p>\n",
       "</div>"
      ],
      "text/plain": [
       "   delivery_id  customer_id  jumpman_id vehicle_type         pickup_place  \\\n",
       "1      1377056        64452      104533      bicycle  Prince Street Pizza   \n",
       "2      1476547        83095      132725      bicycle           Bareburger   \n",
       "3      1485494       271149      157175      bicycle          Juice Press   \n",
       "4      1327707       122609      118095      bicycle    Blue Ribbon Sushi   \n",
       "5      1423142        75169       91932      bicycle     Tamarind TriBeCa   \n",
       "\n",
       "  place_category                    item_name  item_quantity  \\\n",
       "1          Pizza        Neapolitan Rice Balls            3.0   \n",
       "2         Burger                   Bare Sodas            1.0   \n",
       "3      Juice Bar      OMG! My Favorite Juice!            1.0   \n",
       "4       Japanese  Spicy Tuna & Tempura Flakes            2.0   \n",
       "5         Indian                Dum Aloo Gobi            1.0   \n",
       "\n",
       "       item_category_name how_long_it_took_to_order  ...  dropoff_lat  \\\n",
       "1              Munchables           00:25:09.107093  ...    40.719722   \n",
       "2                  Drinks           00:06:44.541717  ...    40.728606   \n",
       "3     Cold Pressed Juices                       NaN  ...    40.751257   \n",
       "4    Maki (Special Rolls)           00:03:45.035418  ...    40.709323   \n",
       "5  Vegetarian Specialties           00:07:14.327405  ...    40.725678   \n",
       "\n",
       "   dropoff_lon  when_the_delivery_started  when_the_Jumpman_arrived_at_pickup  \\\n",
       "1   -73.991858 2014-10-16 21:58:58.654910          2014-10-16 22:26:02.120931   \n",
       "2   -73.995143 2014-10-28 21:39:52.654394          2014-10-28 21:37:18.793405   \n",
       "3   -74.005634 2014-10-30 10:54:11.531894          2014-10-30 11:04:17.759577   \n",
       "4   -74.015867 2014-10-10 00:07:18.450505          2014-10-10 00:14:42.702223   \n",
       "5   -74.000618 2014-10-22 18:56:36.348939          2014-10-22 19:18:49.953427   \n",
       "\n",
       "  when_the_Jumpman_left_pickup when_the_Jumpman_arrived_at_dropoff  \\\n",
       "1   2014-10-16 22:48:23.091253          2014-10-16 22:59:22.948873   \n",
       "2   2014-10-28 21:59:09.984810          2014-10-28 22:04:40.634962   \n",
       "3   2014-10-30 11:16:37.895816          2014-10-30 11:32:38.090061   \n",
       "4   2014-10-10 00:25:19.400294          2014-10-10 00:48:27.150595   \n",
       "5   2014-10-22 19:27:10.578970          2014-10-22 19:36:53.801191   \n",
       "\n",
       "  delivery_started  jumpman_arrival jumpman_departure delivery_completed  \n",
       "1  21:58:58.654910  22:26:02.120931   22:48:23.091253    22:59:22.948873  \n",
       "2  21:39:52.654394  21:37:18.793405   21:59:09.984810    22:04:40.634962  \n",
       "3  10:54:11.531894  11:04:17.759577   11:16:37.895816    11:32:38.090061  \n",
       "4  00:07:18.450505  00:14:42.702223   00:25:19.400294    00:48:27.150595  \n",
       "5  18:56:36.348939  19:18:49.953427   19:27:10.578970    19:36:53.801191  \n",
       "\n",
       "[5 rows x 22 columns]"
      ]
     },
     "execution_count": 26,
     "metadata": {},
     "output_type": "execute_result"
    }
   ],
   "source": [
    "# new dataframe with only values that are NOT when_the_Jumpman_arrived_at_pickup\n",
    "not_missing_arrival = jumpman23[jumpman23[\"when_the_Jumpman_arrived_at_pickup\"].notnull()]\n",
    "not_missing_arrival.head()"
   ]
  },
  {
   "cell_type": "code",
   "execution_count": 27,
   "metadata": {},
   "outputs": [
    {
     "data": {
      "text/plain": [
       "Shake Shack                  289\n",
       "Momofuku Milk Bar            179\n",
       "The Meatball Shop            176\n",
       "sweetgreen                   134\n",
       "Blue Ribbon Fried Chicken    128\n",
       "Name: pickup_place, dtype: int64"
      ]
     },
     "execution_count": 27,
     "metadata": {},
     "output_type": "execute_result"
    }
   ],
   "source": [
    "#top place where there is no record of time it takes to order\n",
    "not_missing_arrival[\"pickup_place\"].value_counts().nlargest(5)"
   ]
  },
  {
   "cell_type": "markdown",
   "metadata": {},
   "source": [
    "# Transporation\n",
    "Segment transportation modes"
   ]
  },
  {
   "cell_type": "code",
   "execution_count": 28,
   "metadata": {},
   "outputs": [
    {
     "data": {
      "text/plain": [
       "bicycle       3874\n",
       "car           1114\n",
       "walker         248\n",
       "scooter         69\n",
       "van             66\n",
       "truck           42\n",
       "motorcycle      20\n",
       "Name: vehicle_type, dtype: int64"
      ]
     },
     "execution_count": 28,
     "metadata": {},
     "output_type": "execute_result"
    }
   ],
   "source": [
    "#top transport \n",
    "not_missing_arrival[\"vehicle_type\"].value_counts()"
   ]
  },
  {
   "cell_type": "code",
   "execution_count": 29,
   "metadata": {},
   "outputs": [
    {
     "data": {
      "text/plain": [
       "(5433, 22)"
      ]
     },
     "execution_count": 29,
     "metadata": {},
     "output_type": "execute_result"
    }
   ],
   "source": [
    "not_missing_arrival.shape"
   ]
  },
  {
   "cell_type": "code",
   "execution_count": 30,
   "metadata": {},
   "outputs": [
    {
     "data": {
      "image/png": "[encoded data removed]",
      "text/plain": [
       "<Figure size 720x720 with 1 Axes>"
      ]
     },
     "metadata": {},
     "output_type": "display_data"
    }
   ],
   "source": [
    "#Plot Pie Chart for transporation\n",
    "plt.figure(figsize=(10,10))\n",
    "labels = (\"Bike, 71.3%\" , \"Car, 20.5%\", 'Walker, 4.56%', '', '','','')\n",
    "explode = (0.1,0,0, 0,0,0,0)\n",
    "not_missing_arrival[\"vehicle_type\"].value_counts().plot.pie(fontsize = 16, explode = explode, counterclock=False, labeldistance=1.1,radius = 1,labels = labels)\n",
    "plt.title(\"Modes of Transportation\", fontsize = 25)\n",
    "plt.ylabel('')\n",
    "plt.show()"
   ]
  },
  {
   "cell_type": "markdown",
   "metadata": {},
   "source": [
    "## Transportation Delivery Time\n",
    "Time taken from Jumpman leaving a store to dropping off the order"
   ]
  },
  {
   "cell_type": "code",
   "execution_count": 31,
   "metadata": {},
   "outputs": [],
   "source": [
    "#function to calculate time\n",
    "def vehicle_delivery_time(vehicle):\n",
    "    vehicle_df = not_missing_arrival[not_missing_arrival['vehicle_type'] == vehicle]\n",
    "    avg_time = (vehicle_df[\"when_the_Jumpman_arrived_at_dropoff\"] - vehicle_df[\"when_the_Jumpman_left_pickup\"]).mean()\n",
    "    print(\"The average time for delivery by {} is {}\".format(vehicle,avg_time))"
   ]
  },
  {
   "cell_type": "code",
   "execution_count": 32,
   "metadata": {},
   "outputs": [
    {
     "name": "stdout",
     "output_type": "stream",
     "text": [
      "The average time for delivery by bicycle is 0 days 00:13:09.811952\n",
      "The average time for delivery by car is 0 days 00:16:57.900500\n",
      "The average time for delivery by walker is 0 days 00:14:27.909196\n",
      "The average time for delivery by van is 0 days 00:16:22.074968\n",
      "The average time for delivery by scooter is 0 days 00:12:59.177255\n",
      "The average time for delivery by truck is 0 days 00:25:20.512299\n",
      "The average time for delivery by motorcycle is 0 days 00:13:42.793901\n"
     ]
    }
   ],
   "source": [
    "vehicle_delivery_time('bicycle')\n",
    "vehicle_delivery_time('car')\n",
    "vehicle_delivery_time('walker')\n",
    "vehicle_delivery_time('van')\n",
    "vehicle_delivery_time('scooter')\n",
    "vehicle_delivery_time('truck')\n",
    "vehicle_delivery_time('motorcycle')"
   ]
  },
  {
   "cell_type": "markdown",
   "metadata": {},
   "source": [
    "---------------------------------------------"
   ]
  },
  {
   "cell_type": "markdown",
   "metadata": {},
   "source": [
    "# Missing item descriptions\n",
    "Find information on which stores were missing most item related data."
   ]
  },
  {
   "cell_type": "code",
   "execution_count": 33,
   "metadata": {},
   "outputs": [],
   "source": [
    "#dataframe for orders missing item information\n",
    "missing_item_info = jumpman23[jumpman23[\"item_name\"].isnull()]"
   ]
  },
  {
   "cell_type": "code",
   "execution_count": 34,
   "metadata": {},
   "outputs": [
    {
     "data": {
      "text/plain": [
       "Duane Reade                              64\n",
       "Chipotle Mexican Grill $1.99 Delivery    56\n",
       "Philippe Chow                            24\n",
       "Starbucks                                23\n",
       "McDonald's                               19\n",
       "Sushi Seki (archived)                    19\n",
       "Sant Ambroeus                            15\n",
       "Whole Foods Market                       15\n",
       "Serafina Meatpacking                     15\n",
       "sweetgreen                               15\n",
       "Name: pickup_place, dtype: int64"
      ]
     },
     "execution_count": 34,
     "metadata": {},
     "output_type": "execute_result"
    }
   ],
   "source": [
    "#most information missing\n",
    "missing_item_info[\"pickup_place\"].value_counts().nlargest(10)"
   ]
  },
  {
   "cell_type": "code",
   "execution_count": 35,
   "metadata": {},
   "outputs": [
    {
     "data": {
      "image/png": "[encoded data removed]",
      "text/plain": [
       "<Figure size 720x432 with 1 Axes>"
      ]
     },
     "metadata": {
      "needs_background": "light"
     },
     "output_type": "display_data"
    }
   ],
   "source": [
    "#Top Stores Missing Item information\n",
    "plt.figure(figsize=(10,6))    \n",
    "clrs = ['grey' if (x < max(missing_item_info[\"pickup_place\"].value_counts())) else 'orange' for x in missing_item_info[\"pickup_place\"].value_counts() ]\n",
    "sns.countplot(y=\"pickup_place\", data=missing_item_info, palette=clrs,\n",
    "              order=missing_item_info[\"pickup_place\"].value_counts().iloc[:10].index) \n",
    "sns.set_context('talk')\n",
    "plt.xlabel(\"Order Count\", fontsize = 20, labelpad = 20)\n",
    "plt.ylabel(\"Stores\", fontsize = 20, labelpad = 20)\n",
    "plt.title(\"Stores with missing item information (Top 10)\", fontsize = 25, pad = 40)\n",
    "sns.despine(offset=10, trim=True)"
   ]
  },
  {
   "cell_type": "code",
   "execution_count": 36,
   "metadata": {},
   "outputs": [
    {
     "data": {
      "text/plain": [
       "64"
      ]
     },
     "execution_count": 36,
     "metadata": {},
     "output_type": "execute_result"
    }
   ],
   "source": [
    "# check store Duane Reade against entire dataset\n",
    "jumpman23[jumpman23['pickup_place'] == \"Duane Reade\"][\"pickup_place\"].count()"
   ]
  },
  {
   "cell_type": "markdown",
   "metadata": {},
   "source": [
    "Now we can see that Duane Reade have no records of the items being purchase on Jumpman23's platform. Looking into this further this could be because Duane Reade is a Drugstore. For security purposes it might not be allowed to disclose the exact medication Jumpmen are picking up."
   ]
  },
  {
   "cell_type": "code",
   "execution_count": 37,
   "metadata": {},
   "outputs": [
    {
     "data": {
      "text/plain": [
       "80"
      ]
     },
     "execution_count": 37,
     "metadata": {},
     "output_type": "execute_result"
    }
   ],
   "source": [
    "# check store Chipotle against entire dataset\n",
    "jumpman23[jumpman23['pickup_place'] == \"Chipotle Mexican Grill $1.99 Delivery\"][\"pickup_place\"].count()"
   ]
  },
  {
   "cell_type": "markdown",
   "metadata": {},
   "source": [
    "Since Chipotle was the second highest for missing information I checked to to cross check it against the original dataset. We see above there are 80 Chipotle entries, so 24 are missing item information. Since Chipotle is a large chain it could be an operational issue as to way item information is not being disclosed. let's check against other big stores."
   ]
  },
  {
   "cell_type": "code",
   "execution_count": 38,
   "metadata": {},
   "outputs": [
    {
     "data": {
      "text/plain": [
       "23"
      ]
     },
     "execution_count": 38,
     "metadata": {},
     "output_type": "execute_result"
    }
   ],
   "source": [
    "# check store Starbucks against entire dataset\n",
    "jumpman23[jumpman23['pickup_place'] == \"Starbucks\"][\"pickup_place\"].count()"
   ]
  },
  {
   "cell_type": "markdown",
   "metadata": {},
   "source": [
    "Starbucks are not recording any of their items. In general Starbucks orders are very customized, this could be a reason for lack of information."
   ]
  },
  {
   "cell_type": "code",
   "execution_count": 39,
   "metadata": {},
   "outputs": [
    {
     "data": {
      "text/plain": [
       "62"
      ]
     },
     "execution_count": 39,
     "metadata": {},
     "output_type": "execute_result"
    }
   ],
   "source": [
    "# check store McDonald's against entire dataset\n",
    "jumpman23[jumpman23['pickup_place'] == \"McDonald's\"][\"pickup_place\"].count()"
   ]
  },
  {
   "cell_type": "markdown",
   "metadata": {},
   "source": [
    "62 recorded orders, and 19 missing could mean something similar to starbucks. More specialized orders can cause orders to not be properly recorded in the system."
   ]
  },
  {
   "cell_type": "markdown",
   "metadata": {},
   "source": [
    "--------------------------------------------------------"
   ]
  },
  {
   "cell_type": "markdown",
   "metadata": {},
   "source": [
    "# Popular Pick Up Place\n",
    "Find which stores are have the highest orders on Jumpman23"
   ]
  },
  {
   "cell_type": "code",
   "execution_count": 40,
   "metadata": {},
   "outputs": [
    {
     "data": {
      "text/plain": [
       "Shake Shack                              311\n",
       "Momofuku Milk Bar                        186\n",
       "The Meatball Shop                        184\n",
       "Blue Ribbon Sushi                        151\n",
       "sweetgreen                               149\n",
       "Blue Ribbon Fried Chicken                133\n",
       "Whole Foods Market                       119\n",
       "Parm                                     102\n",
       "RedFarm Broadway                          93\n",
       "Mighty Quinn's BBQ                        90\n",
       "Chipotle Mexican Grill $1.99 Delivery     80\n",
       "Momofuku Noodle Bar                       74\n",
       "Hu Kitchen                                68\n",
       "Trader Joe's                              68\n",
       "TAO                                       67\n",
       "Han Dynasty                               66\n",
       "Sushi of Gari 46                          64\n",
       "Duane Reade                               64\n",
       "McDonald's                                62\n",
       "RedFarm Hudson                            60\n",
       "Name: pickup_place, dtype: int64"
      ]
     },
     "execution_count": 40,
     "metadata": {},
     "output_type": "execute_result"
    }
   ],
   "source": [
    "#most popular place\n",
    "top_20 = jumpman23[\"pickup_place\"].value_counts().nlargest(20)\n",
    "top_20"
   ]
  },
  {
   "cell_type": "code",
   "execution_count": 41,
   "metadata": {},
   "outputs": [
    {
     "data": {
      "image/png": "[encoded data removed]",
      "text/plain": [
       "<Figure size 720x432 with 1 Axes>"
      ]
     },
     "metadata": {
      "needs_background": "light"
     },
     "output_type": "display_data"
    }
   ],
   "source": [
    "#Top Stores\n",
    "plt.figure(figsize=(10,6))    \n",
    "clrs = ['grey' if (x < max(jumpman23[\"pickup_place\"].value_counts())) else 'green' for x in jumpman23[\"pickup_place\"].value_counts() ]\n",
    "sns.countplot(y=\"pickup_place\", data=jumpman23, palette=clrs,\n",
    "              order=jumpman23[\"pickup_place\"].value_counts().iloc[:10].index) \n",
    "sns.set_context('talk')\n",
    "plt.xlabel(\"Order Count\", fontsize = 20, labelpad = 20)\n",
    "plt.ylabel(\"Stores\", fontsize = 20, labelpad = 20)\n",
    "plt.title(\"Most Popular Stores (Top 10)\", fontsize = 25, pad = 40)\n",
    "sns.despine(offset=10, trim=True)"
   ]
  },
  {
   "cell_type": "markdown",
   "metadata": {},
   "source": [
    "------------------------------------------------------------"
   ]
  },
  {
   "cell_type": "markdown",
   "metadata": {},
   "source": [
    "# Popular Category\n",
    "Find which categories are in high demand."
   ]
  },
  {
   "cell_type": "code",
   "execution_count": 42,
   "metadata": {},
   "outputs": [
    {
     "data": {
      "text/plain": [
       "Italian           504\n",
       "Burger            454\n",
       "Japanese          433\n",
       "American          405\n",
       "Chinese           332\n",
       "Dessert           315\n",
       "Sushi             253\n",
       "Salad             206\n",
       "Grocery Store     187\n",
       "Mexican           178\n",
       "Bakery            140\n",
       "BBQ               134\n",
       "Pizza             106\n",
       "Juice Bar          99\n",
       "Indian             91\n",
       "Donut              90\n",
       "Fast Food          83\n",
       "Seafood            81\n",
       "Vegetarian         73\n",
       "Middle Eastern     70\n",
       "Name: place_category, dtype: int64"
      ]
     },
     "execution_count": 42,
     "metadata": {},
     "output_type": "execute_result"
    }
   ],
   "source": [
    "#most popular category\n",
    "top_category = jumpman23[\"place_category\"].value_counts().nlargest(20)\n",
    "top_category"
   ]
  },
  {
   "cell_type": "code",
   "execution_count": 43,
   "metadata": {},
   "outputs": [
    {
     "data": {
      "image/png": "[encoded data removed]",
      "text/plain": [
       "<Figure size 720x432 with 1 Axes>"
      ]
     },
     "metadata": {
      "needs_background": "light"
     },
     "output_type": "display_data"
    }
   ],
   "source": [
    "#Top Category\n",
    "plt.figure(figsize=(10,6))    \n",
    "clrs = ['grey' if (x < max(jumpman23[\"place_category\"].value_counts())) else 'blue' for x in jumpman23[\"place_category\"].value_counts() ]\n",
    "sns.countplot(y=\"place_category\", data=jumpman23, palette=clrs,\n",
    "              order=jumpman23[\"place_category\"].value_counts().iloc[:10].index) \n",
    "sns.set_context('talk')\n",
    "plt.xlabel(\"Order Count\", fontsize = 20, labelpad = 20)\n",
    "plt.ylabel(\"Category\", fontsize = 20, labelpad = 20)\n",
    "plt.title(\"Most Popular Categories (Top 10)\", fontsize = 25, pad = 40)\n",
    "sns.despine(offset=10, trim=True)"
   ]
  },
  {
   "cell_type": "markdown",
   "metadata": {},
   "source": [
    "-----------------------------------------------------"
   ]
  },
  {
   "cell_type": "markdown",
   "metadata": {},
   "source": [
    "# Most Popular Store in a Category\n",
    "Find main store in each category"
   ]
  },
  {
   "cell_type": "code",
   "execution_count": 44,
   "metadata": {},
   "outputs": [
    {
     "data": {
      "text/plain": [
       "place_category  pickup_place                         \n",
       "Burger          Shake Shack                              311\n",
       "Dessert         Momofuku Milk Bar                        186\n",
       "Italian         The Meatball Shop                        163\n",
       "Japanese        Blue Ribbon Sushi                        151\n",
       "Salad           sweetgreen                               149\n",
       "American        Blue Ribbon Fried Chicken                133\n",
       "Grocery Store   Whole Foods Market                       119\n",
       "Italian         Parm                                     102\n",
       "Chinese         RedFarm Broadway                          93\n",
       "BBQ             Mighty Quinn's BBQ                        90\n",
       "Mexican         Chipotle Mexican Grill $1.99 Delivery     80\n",
       "Gluten-Free     Hu Kitchen                                68\n",
       "Grocery Store   Trader Joe's                              68\n",
       "Japanese        TAO                                       67\n",
       "Chinese         Han Dynasty                               66\n",
       "Drug Store      Duane Reade                               64\n",
       "Sushi           Sushi of Gari 46                          64\n",
       "Fast Food       McDonald's                                62\n",
       "Chinese         RedFarm Hudson                            60\n",
       "Donut           Doughnut Plant Chelsea                    60\n",
       "Name: pickup_place, dtype: int64"
      ]
     },
     "execution_count": 44,
     "metadata": {},
     "output_type": "execute_result"
    }
   ],
   "source": [
    "# most popular place in a specific category\n",
    "jumpman23.groupby(['place_category', 'pickup_place']).pickup_place.count().nlargest(20)"
   ]
  },
  {
   "cell_type": "markdown",
   "metadata": {},
   "source": [
    "### Insights\n",
    "It is interesting when we look at the most popular place, category and place by category that Italian food is the most common, but when the individual restaurant \"The Meatball shop\", their overall order count is much lower than Shake Shack. This could mean that people ordering burgers are saturated in ordering just from Shake Shack, but people ordering Italian food are ordering from a variety of different restaurants."
   ]
  },
  {
   "cell_type": "code",
   "execution_count": 45,
   "metadata": {},
   "outputs": [
    {
     "name": "stdout",
     "output_type": "stream",
     "text": [
      "(53,)\n"
     ]
    },
    {
     "data": {
      "text/plain": [
       "The Meatball Shop                163\n",
       "Parm                             102\n",
       "Rubirosa                          53\n",
       "Serafina Fabulous Pizza           21\n",
       "Otto Enoteca Pizzeria             19\n",
       "Osteria Morini                    15\n",
       "Sant Ambroeus                     15\n",
       "Serafina Meatpacking              15\n",
       "Vezzo Thin Crust Pizza             7\n",
       "Pepe Rosso To Go                   7\n",
       "Tony's Di Napoli                   7\n",
       "Mezzaluna Restaurants              5\n",
       "Bar Pitti                          4\n",
       "da Umberto                         3\n",
       "Eataly                             3\n",
       "Bistango                           3\n",
       "Piccolo Angolo                     3\n",
       "Carmine's                          3\n",
       "Locanda Verde                      3\n",
       "Frank Restaurant                   3\n",
       "La Follia                          3\n",
       "UVA Wine Bar & Restaurant          3\n",
       "Morandi                            3\n",
       "LAVO                               2\n",
       "Aurora                             2\n",
       "Galli Restaurant                   2\n",
       "L'Apicio                           2\n",
       " Il Mulino New York                2\n",
       "Zero Otto Nove                     2\n",
       "Tarallucci e Vino Restaurant       2\n",
       "i Trulli                           2\n",
       "Faicco's Italian Specialities      2\n",
       "Olive Garden                       2\n",
       "Posto                              2\n",
       "Cipriani Downtown                  1\n",
       "Le Zie 2000 Trattoria              1\n",
       "Gemma at Bowery Hotel              1\n",
       "Bar Primi                          1\n",
       "Nutella @ Eataly (archived)        1\n",
       "Il Bambino                         1\n",
       "Emporio                            1\n",
       "Antique Garage                     1\n",
       "Lamarca Pasta                      1\n",
       "Ristorante Grifone                 1\n",
       "Basta Pasta                        1\n",
       "Cipriani Le Specialita             1\n",
       "Arturo's Restaurant                1\n",
       "Coppola's East                     1\n",
       "Pepe Giallo                        1\n",
       "Il Cantinori                       1\n",
       "Paul & Jimmy's                     1\n",
       "Gaia Italian Cafe                  1\n",
       "Serafina Always                    1\n",
       "Name: pickup_place, dtype: int64"
      ]
     },
     "execution_count": 45,
     "metadata": {},
     "output_type": "execute_result"
    }
   ],
   "source": [
    "# italian restaurants\n",
    "italian_restaurants = jumpman23[jumpman23[\"place_category\"] == \"Italian\"]\n",
    "print(italian_restaurants[\"pickup_place\"].value_counts().shape)\n",
    "italian_restaurants[\"pickup_place\"].value_counts()"
   ]
  },
  {
   "cell_type": "markdown",
   "metadata": {},
   "source": [
    "There are a total of 53 Italian restaurants with the order count per store is not significantly dominated by a single store. However, there are a lot of stores that have completed very low orders between 1-3 total."
   ]
  },
  {
   "cell_type": "code",
   "execution_count": 46,
   "metadata": {},
   "outputs": [
    {
     "name": "stdout",
     "output_type": "stream",
     "text": [
      "(18,)\n"
     ]
    },
    {
     "data": {
      "text/plain": [
       "Shake Shack                    311\n",
       "Five Guys Burgers and Fries     32\n",
       "Bareburger                      32\n",
       "J. G. Melon                     24\n",
       "Burger Joint                    16\n",
       "Lucky's Famous Burgers           7\n",
       "5 Napkin Burger                  6\n",
       "BurgerFi                         4\n",
       "DuMont Burger                    4\n",
       "Big Daddy's                      4\n",
       "Amsterdam Burger Company         3\n",
       "brgr                             3\n",
       "Umami Burger                     3\n",
       "Mark                             1\n",
       "Whitmans                         1\n",
       "Island Burgers & Shakes          1\n",
       "Royale                           1\n",
       "67 Burger                        1\n",
       "Name: pickup_place, dtype: int64"
      ]
     },
     "execution_count": 46,
     "metadata": {},
     "output_type": "execute_result"
    }
   ],
   "source": [
    "# burger restaurants\n",
    "burger_restaurants = jumpman23[jumpman23[\"place_category\"] == \"Burger\"]\n",
    "print(burger_restaurants[\"pickup_place\"].value_counts().shape)\n",
    "burger_restaurants[\"pickup_place\"].value_counts()"
   ]
  },
  {
   "cell_type": "markdown",
   "metadata": {},
   "source": [
    "Where as the Burger restaurants, Shake Shack is clear dominating orders by a significant amount. There is also a lot less restaurants. Only 18 which is close to 1/3 of the Italian restaurants available.\n",
    "\n",
    "Look into the third highest category - Japanese"
   ]
  },
  {
   "cell_type": "code",
   "execution_count": 47,
   "metadata": {},
   "outputs": [
    {
     "name": "stdout",
     "output_type": "stream",
     "text": [
      "(20,)\n"
     ]
    },
    {
     "data": {
      "text/plain": [
       "Blue Ribbon Sushi                151\n",
       "TAO                               67\n",
       "Blue Ribbon Sushi Bar & Grill     55\n",
       "Blue Ribbon Sushi Izakaya         46\n",
       "Sushi of Gari Tribeca             32\n",
       "Yama Japanese Restaurant          22\n",
       "Sushi Seki (archived)             18\n",
       "Donburi-ya                         9\n",
       "Benihana                           8\n",
       "Terakawa Ramen                     4\n",
       "Izakaya Ten                        4\n",
       "Hibino                             3\n",
       "Go! Go! Curry!                     3\n",
       "Kobeyaki                           2\n",
       "Samurai Mama                       2\n",
       "KOI Restaurant                     2\n",
       "Soba Nippon                        2\n",
       "Sushi Choshi                       1\n",
       "Kambi Ramen House                  1\n",
       "Hiroko's Place                     1\n",
       "Name: pickup_place, dtype: int64"
      ]
     },
     "execution_count": 47,
     "metadata": {},
     "output_type": "execute_result"
    }
   ],
   "source": [
    "# japanese restaurants\n",
    "japanese_restaurants = jumpman23[jumpman23[\"place_category\"] == \"Japanese\"]\n",
    "print(japanese_restaurants[\"pickup_place\"].value_counts().shape)\n",
    "japanese_restaurants[\"pickup_place\"].value_counts()"
   ]
  },
  {
   "cell_type": "markdown",
   "metadata": {},
   "source": [
    "There is also a low amount of Japanese restaurants compared to Italian food."
   ]
  },
  {
   "cell_type": "markdown",
   "metadata": {},
   "source": [
    "--------------------------------"
   ]
  },
  {
   "cell_type": "code",
   "execution_count": null,
   "metadata": {},
   "outputs": [],
   "source": []
  }
 ],
 "metadata": {
  "kernelspec": {
   "display_name": "Python 3",
   "language": "python",
   "name": "python3"
  },
  "language_info": {
   "codemirror_mode": {
    "name": "ipython",
    "version": 3
   },
   "file_extension": ".py",
   "mimetype": "text/x-python",
   "name": "python",
   "nbconvert_exporter": "python",
   "pygments_lexer": "ipython3",
   "version": "3.7.6"
  },
  "toc": {
   "base_numbering": 1,
   "nav_menu": {},
   "number_sections": false,
   "sideBar": true,
   "skip_h1_title": false,
   "title_cell": "Table of Contents",
   "title_sidebar": "Contents",
   "toc_cell": false,
   "toc_position": {},
   "toc_section_display": true,
   "toc_window_display": false
  },
  "varInspector": {
   "cols": {
    "lenName": 16,
    "lenType": 16,
    "lenVar": 40
   },
   "kernels_config": {
    "python": {
     "delete_cmd_postfix": "",
     "delete_cmd_prefix": "del ",
     "library": "var_list.py",
     "varRefreshCmd": "print(var_dic_list())"
    },
    "r": {
     "delete_cmd_postfix": ") ",
     "delete_cmd_prefix": "rm(",
     "library": "var_list.r",
     "varRefreshCmd": "cat(var_dic_list()) "
    }
   },
   "types_to_exclude": [
    "module",
    "function",
    "builtin_function_or_method",
    "instance",
    "_Feature"
   ],
   "window_display": false
  }
 },
 "nbformat": 4,
 "nbformat_minor": 2
}
