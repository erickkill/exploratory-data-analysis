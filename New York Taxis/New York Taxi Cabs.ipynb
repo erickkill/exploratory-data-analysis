{
 "cells": [
  {
   "cell_type": "markdown",
   "metadata": {},
   "source": [
    "# NumPy Exploration"
   ]
  },
  {
   "cell_type": "markdown",
   "metadata": {},
   "source": [
    "## New York City\n",
    "We'll only work with a subset of this data - approximately 90,000 yellow taxi trips to and from New York City airports between January and June 2016. Below is information about selected columns from the data set:\n",
    "\n",
    "1. pickup_year: The year of the trip.\n",
    "2. pickup_month: The month of the trip (January is 1, December is 12).\n",
    "3. pickup_day: The day of the month of the trip.\n",
    "4. pickup_location_code: The airport or borough where the trip started.\n",
    "5. dropoff_location_code: The airport or borough where the trip finished.\n",
    "6. trip_distance: The distance of the trip in miles.\n",
    "7. trip_length: The length of the trip in seconds.\n",
    "8. fare_amount: The base fare of the trip, in dollars.\n",
    "9. total_amount: The total amount charged to the passenger, including all fees, tolls and tips.\n",
    "\n",
    "Now that we understand NumPy a little better, let's learn how to use the numpy.genfromtxt() function to read files into NumPy ndarrays. Here is the simplified syntax for the function, and an explanation of the two parameters:\n",
    "\n",
    "    np.genfromtxt(filename, delimiter=None)\n",
    "filename: A positional argument, usually a string representing the path to the text file to be read.\n",
    "delimiter: A named argument, specifying the string used to separate each value.\n",
    "In this case, because we have a CSV file, the delimiter is a comma. Here's how we'd read in a file named data.csv:\n",
    "\n",
    "    data = np.genfromtxt('data.csv', delimiter=',')"
   ]
  },
  {
   "cell_type": "code",
   "execution_count": 3,
   "metadata": {},
   "outputs": [
    {
     "data": {
      "text/plain": [
       "(89561, 15)"
      ]
     },
     "execution_count": 3,
     "metadata": {},
     "output_type": "execute_result"
    }
   ],
   "source": [
    "import numpy as np\n",
    "\n",
    "#import file with delimiter format\n",
    "taxi = np.genfromtxt(\"nyc_taxis.csv\", delimiter = \",\")\n",
    "taxi\n",
    "\n",
    "#check shape\n",
    "taxi_shape = taxi.shape\n",
    "taxi_shape"
   ]
  },
  {
   "cell_type": "markdown",
   "metadata": {},
   "source": [
    "NumPy ndarrays can contain only one datatype.\n",
    "\n",
    "We can use the ndarray.dtype attribute to see the internal datatype that has been used."
   ]
  },
  {
   "cell_type": "code",
   "execution_count": 4,
   "metadata": {},
   "outputs": [
    {
     "data": {
      "text/plain": [
       "dtype('float64')"
      ]
     },
     "execution_count": 4,
     "metadata": {},
     "output_type": "execute_result"
    }
   ],
   "source": [
    "taxi.dtype"
   ]
  },
  {
   "cell_type": "markdown",
   "metadata": {},
   "source": [
    "NumPy chose the float64 type, since it will allow most of the values from our CSV to be read. You can think of NumPy's float64 type as being identical to Python's float type (the \"64\" refers to the number of bits used to store the underlying value).\n",
    "\n",
    "If we review the results from the last exercise, we can see that taxi contains almost all numbers except for: nan.\n",
    "\n",
    "NaN is most commonly seen when a value is missing, but in this case, we have NaN values because the first line from our CSV file contains the names of each column. NumPy is unable to convert string values like pickup_year into the float64 data type.\n",
    "\n",
    "For now, we need to remove this header row from our ndarray. We can do this the same way we would if our data was stored in a list of lists:\n",
    "\n",
    "    taxi = taxi[1:]\n",
    "Alternatively, we can pass an additional parameter, skip_header, to the numpy.genfromtxt() function. The skip_header parameter accepts an integer, the number of rows from the start of the file to skip. Note that because this integer should be the number of rows and not the index, skipping the first row would require a value of 1, not 0."
   ]
  },
  {
   "cell_type": "code",
   "execution_count": 6,
   "metadata": {},
   "outputs": [
    {
     "data": {
      "text/plain": [
       "(89560, 15)"
      ]
     },
     "execution_count": 6,
     "metadata": {},
     "output_type": "execute_result"
    }
   ],
   "source": [
    "# use np.gemfromtxt() again with skip_header\n",
    "\n",
    "taxi = np.genfromtxt(\"nyc_taxis.csv\", delimiter=\",\", skip_header=1)\n",
    "\n",
    "taxi_shape=taxi.shape\n",
    "taxi_shape"
   ]
  },
  {
   "cell_type": "markdown",
   "metadata": {},
   "source": [
    "## Boolean operations on ndarray\n",
    "Now, let's look at what happens when we perform a boolean operation between an ndarray and a single value:\n",
    "\n",
    "    print(np.array([2,4,6,8]) < 5)\n",
    "    [ True  True False False]\n",
    "A similar pattern occurs – each value in the array is compared to five. If the value is less than five, True is returned. Otherwise, False is returned.\n",
    "\n",
    "![img](https://s3.amazonaws.com/dq-content/290/vectorized_bool.svg)"
   ]
  },
  {
   "cell_type": "code",
   "execution_count": 8,
   "metadata": {},
   "outputs": [
    {
     "data": {
      "text/plain": [
       "array([ True,  True, False, False, False])"
      ]
     },
     "execution_count": 8,
     "metadata": {},
     "output_type": "execute_result"
    }
   ],
   "source": [
    "# evaluate array a if less than 3\n",
    "a = np.array([1, 2, 3, 4, 5])\n",
    "\n",
    "a_bool = a < 3\n",
    "a_bool"
   ]
  },
  {
   "cell_type": "code",
   "execution_count": 9,
   "metadata": {},
   "outputs": [
    {
     "data": {
      "text/plain": [
       "array([ True,  True, False,  True])"
      ]
     },
     "execution_count": 9,
     "metadata": {},
     "output_type": "execute_result"
    }
   ],
   "source": [
    "# evalule b if blue\n",
    "b = np.array([\"blue\", \"blue\", \"red\", \"blue\"])\n",
    "\n",
    "b_bool = b=='blue'\n",
    "b_bool"
   ]
  },
  {
   "cell_type": "markdown",
   "metadata": {},
   "source": [
    "## Boolean Indexing\n",
    "To index using our new boolean array, we simply insert it in the square brackets, just like we would do with our other selection techniques:\n",
    "\n",
    "![img](https://s3.amazonaws.com/dq-content/290/1d_bool_2.svg)\n",
    "\n",
    "The boolean array acts as a filter, so that the values corresponding to True become part of the result and the values corresponding to False are removed.\n",
    "\n",
    "Let's use boolean indexing to confirm the number of taxi rides in our data set from the month of January. First, let's select just the pickup_month column, which is the second column in the ndarray:"
   ]
  },
  {
   "cell_type": "code",
   "execution_count": 11,
   "metadata": {},
   "outputs": [],
   "source": [
    "# pickup_month\n",
    "\n",
    "pickup_month = taxi[:,1]"
   ]
  },
  {
   "cell_type": "markdown",
   "metadata": {},
   "source": [
    "Next, we use a boolean operation to make a boolean array, where the value 1 corresponds to January:\n",
    "\n"
   ]
  },
  {
   "cell_type": "code",
   "execution_count": 12,
   "metadata": {},
   "outputs": [],
   "source": [
    "# january\n",
    "\n",
    "januray_bool = pickup_month == 1"
   ]
  },
  {
   "cell_type": "markdown",
   "metadata": {},
   "source": [
    "Then we use the new boolean array to select only the items from pickup_month that have a value of 1:"
   ]
  },
  {
   "cell_type": "code",
   "execution_count": 13,
   "metadata": {},
   "outputs": [],
   "source": [
    "january = pickup_month[januray_bool]"
   ]
  },
  {
   "cell_type": "markdown",
   "metadata": {},
   "source": [
    "Finally, we use the .shape attribute to find out how many items are in our january ndarray, which is equal to the number of taxi rides from the month of January. We'll use [0] to extract the value from the tuple returned by .shape:"
   ]
  },
  {
   "cell_type": "code",
   "execution_count": 14,
   "metadata": {},
   "outputs": [
    {
     "name": "stdout",
     "output_type": "stream",
     "text": [
      "13481\n"
     ]
    }
   ],
   "source": [
    "january_rides = january.shape[0]\n",
    "print(january_rides)"
   ]
  },
  {
   "cell_type": "markdown",
   "metadata": {},
   "source": [
    "There are 13,481 rides in our dataset from the month of January.\n",
    "\n",
    "When working with 2D ndarrays, you can use boolean indexing in combination with any of the indexing methods we learned in the previous mission. The only limitation is that the boolean array must have the same length as the dimension you're indexing. Let's look at some examples:\n",
    "\n",
    "![img](https://s3.amazonaws.com/dq-content/290/bool_dims_updated.svg)\n",
    "\n",
    "Let's verify if there are any issues with the data. Recall that we calculated the average travel speed as follows:"
   ]
  },
  {
   "cell_type": "code",
   "execution_count": 16,
   "metadata": {},
   "outputs": [
    {
     "data": {
      "text/plain": [
       "array([37.11340206, 38.58157895, 31.27222982, ..., 22.29907867,\n",
       "       42.41551247, 36.90473407])"
      ]
     },
     "execution_count": 16,
     "metadata": {},
     "output_type": "execute_result"
    }
   ],
   "source": [
    "# calculate the average speed\n",
    "trip_mph = taxi[:,7] / (taxi[:,8] / 3600)\n",
    "trip_mph"
   ]
  },
  {
   "cell_type": "markdown",
   "metadata": {},
   "source": [
    "Next, we'll check for trips with an average speed greater than 20,000 mph:"
   ]
  },
  {
   "cell_type": "code",
   "execution_count": 17,
   "metadata": {},
   "outputs": [
    {
     "data": {
      "text/plain": [
       "array([[ 2. ,  2. , 23. ,  1. ],\n",
       "       [ 2. ,  2. , 19.6,  1. ],\n",
       "       [ 2. ,  2. , 16.7,  2. ],\n",
       "       [ 3. ,  3. , 17.8,  2. ],\n",
       "       [ 2. ,  2. , 17.2,  2. ],\n",
       "       [ 3. ,  3. , 16.9,  3. ],\n",
       "       [ 2. ,  2. , 27.1,  4. ]])"
      ]
     },
     "execution_count": 17,
     "metadata": {},
     "output_type": "execute_result"
    }
   ],
   "source": [
    "# create a boolean array for trips with average\n",
    "#speeds greater than  20,000 mph\n",
    "\n",
    "trip_mph_bool = trip_mph > 20000\n",
    "\n",
    "# use boolean array to select rows for boolen above\n",
    "#include pickup_location, drop_off, trip_distance, and trip_length columns\n",
    "\n",
    "trips_over_20000_mph = taxi[trip_mph_bool, 5:9]\n",
    "trips_over_20000_mph"
   ]
  },
  {
   "cell_type": "markdown",
   "metadata": {},
   "source": [
    "We can see from the last column that most of these are very short rides - all have trip_length values of 4 or less seconds, which does not reconcile with the trip distances, all of which are more than 16 miles."
   ]
  },
  {
   "cell_type": "code",
   "execution_count": 19,
   "metadata": {},
   "outputs": [
    {
     "data": {
      "text/plain": [
       "array([[4.0000e+00, 2.0000e+00, 2.1450e+01, 2.0040e+03, 5.2000e+01,\n",
       "        8.0000e-01, 0.0000e+00, 5.2800e+01, 1.0560e+02],\n",
       "       [3.0000e+00, 4.0000e+00, 9.2000e+00, 1.0410e+03, 2.7000e+01,\n",
       "        1.3000e+00, 5.5400e+00, 6.0000e+01, 9.3840e+01],\n",
       "       [2.0000e+00, 0.0000e+00, 1.9800e+01, 1.6710e+03, 5.2500e+01,\n",
       "        1.3000e+00, 5.5400e+00, 5.9340e+01, 1.1868e+02],\n",
       "       [4.0000e+00, 2.0000e+00, 1.8420e+01, 2.9680e+03, 5.2000e+01,\n",
       "        8.0000e-01, 5.5400e+00, 8.0000e+01, 1.3834e+02],\n",
       "       [3.0000e+00, 6.0000e+00, 4.9000e-01, 1.5800e+02, 3.5000e+00,\n",
       "        1.8000e+00, 0.0000e+00, 7.0000e+01, 7.5300e+01],\n",
       "       [2.0000e+00, 2.0000e+00, 2.7000e+00, 3.8100e+02, 9.5000e+00,\n",
       "        8.0000e-01, 0.0000e+00, 6.0000e+01, 7.0300e+01],\n",
       "       [3.0000e+00, 4.0000e+00, 9.5400e+00, 1.2100e+03, 2.7500e+01,\n",
       "        8.0000e-01, 5.5400e+00, 5.5000e+01, 8.8840e+01],\n",
       "       [2.0000e+00, 4.0000e+00, 1.7600e+01, 3.2510e+03, 5.2000e+01,\n",
       "        8.0000e-01, 5.5400e+00, 6.5000e+01, 1.2334e+02],\n",
       "       [4.0000e+00, 2.0000e+00, 3.8200e+01, 9.2520e+03, 5.2000e+01,\n",
       "        8.0000e-01, 5.5400e+00, 8.0000e+01, 1.3834e+02],\n",
       "       [4.0000e+00, 2.0000e+00, 1.8000e+01, 2.2760e+03, 1.0000e-02,\n",
       "        3.0000e-01, 5.5400e+00, 6.2000e+01, 6.7850e+01],\n",
       "       [2.0000e+00, 0.0000e+00, 2.6210e+01, 1.7029e+04, 1.8050e+02,\n",
       "        8.0000e-01, 5.5400e+00, 1.0000e+02, 2.8684e+02],\n",
       "       [2.0000e+00, 2.0000e+00, 0.0000e+00, 2.4000e+01, 2.5000e+00,\n",
       "        8.0000e-01, 0.0000e+00, 5.8000e+01, 6.1300e+01],\n",
       "       [2.0000e+00, 1.0000e+00, 1.8210e+01, 3.1600e+03, 5.5500e+01,\n",
       "        8.0000e-01, 0.0000e+00, 6.2000e+01, 1.1830e+02],\n",
       "       [2.0000e+00, 2.0000e+00, 0.0000e+00, 3.0000e+00, 2.5000e+00,\n",
       "        1.8000e+00, 0.0000e+00, 7.5700e+01, 8.0000e+01],\n",
       "       [2.0000e+00, 4.0000e+00, 1.8680e+01, 5.2470e+03, 5.2000e+01,\n",
       "        8.0000e-01, 5.5400e+00, 6.0000e+01, 1.1834e+02],\n",
       "       [4.0000e+00, 2.0000e+00, 1.8170e+01, 5.8600e+03, 5.2000e+01,\n",
       "        8.0000e-01, 5.5400e+00, 7.0000e+01, 1.2834e+02]])"
      ]
     },
     "execution_count": 19,
     "metadata": {},
     "output_type": "execute_result"
    }
   ],
   "source": [
    "# create boolean for tips that have value over 50\n",
    "\n",
    "#isolate column\n",
    "tip_amount = taxi[:,12]\n",
    "\n",
    "# crceate boolen\n",
    "tip_bool = tip_amount > 50\n",
    "\n",
    "#select rows\n",
    "top_tips = taxi[tip_bool, 5:14]\n",
    "top_tips"
   ]
  },
  {
   "cell_type": "markdown",
   "metadata": {},
   "source": [
    "So far, we've learned how to retrieve data from ndarrays. Next, we'll use the same indexing techniques we've already learned to modify values within an ndarray. The syntax we'll use (in pseudocode) is:\n",
    "\n",
    "    ndarray[location_of_values] = new_value\n",
    "Let's take a look at what that looks like in actual code. With our 1D array, we can specify one specific index location:\n",
    "\n",
    "    a = np.array(['red','blue','black','blue','purple'])\n",
    "    a[0] = 'orange'\n",
    "    print(a)\n",
    "    \n",
    "    ['orange', 'blue', 'black', 'blue', 'purple']\n",
    "Or we can assign multiple values at once:\n",
    "\n",
    "    a[3:] = 'pink'\n",
    "    print(a)\n",
    "    ['orange', 'blue', 'black', 'pink', 'pink']\n",
    "With a 2D ndarray, just like with a 1D ndarray, we can assign one specific index location:\n",
    "\n",
    "    ones = np.array([[1, 1, 1, 1, 1],\n",
    "                     [1, 1, 1, 1, 1],\n",
    "                     [1, 1, 1, 1, 1]])\n",
    "    ones[1,2] = 99\n",
    "    print(ones)\n",
    "    \n",
    "    [[ 1,  1,  1,  1,  1],\n",
    "     [ 1,  1, 99,  1,  1],\n",
    "     [ 1,  1,  1,  1,  1]]\n",
    "We can also assign a whole row...\n",
    "\n",
    "    ones[0] = 42\n",
    "    print(ones)\n",
    "    \n",
    "    [[42, 42, 42, 42, 42],\n",
    "     [ 1,  1, 99,  1,  1],\n",
    "     [ 1,  1,  1,  1,  1]]\n",
    "...or a whole column:\n",
    "\n",
    "    ones[:,2] = 0\n",
    "    print(ones)\n",
    "    \n",
    "    [[42, 42, 0, 42, 42],\n",
    "     [ 1,  1, 0,  1,  1],\n",
    "     [ 1,  1, 0,  1,  1]]\n",
    "     \n",
    "## Solve"
   ]
  },
  {
   "cell_type": "code",
   "execution_count": 20,
   "metadata": {},
   "outputs": [],
   "source": [
    "# crceate copy of taxi ndarray\n",
    "\n",
    "taxi_modified = taxi.copy()"
   ]
  },
  {
   "cell_type": "markdown",
   "metadata": {},
   "source": [
    "1. The value at column index 5 (pickup_location) of row index 28214 is incorrect. Use assignment to change this value to 1 in the taxi_modified ndarray."
   ]
  },
  {
   "cell_type": "code",
   "execution_count": 21,
   "metadata": {},
   "outputs": [],
   "source": [
    "taxi_modified[28214,5] = 1"
   ]
  },
  {
   "cell_type": "markdown",
   "metadata": {},
   "source": [
    "2. The first column (index 0) contains year values as four digit numbers in the format YYYY (2016, since all trips in our data set are from 2016). Use assignment to change these values to the YY format (16) in the taxi_modified ndarray."
   ]
  },
  {
   "cell_type": "code",
   "execution_count": 22,
   "metadata": {},
   "outputs": [],
   "source": [
    "taxi_modified[:,0] = 16"
   ]
  },
  {
   "cell_type": "markdown",
   "metadata": {},
   "source": [
    "3. The values at column index 7 (trip_distance) of rows index 1800 and 1801 are incorrect. Use assignment to change these values in the taxi_modified ndarray to the mean value for that column."
   ]
  },
  {
   "cell_type": "code",
   "execution_count": 24,
   "metadata": {},
   "outputs": [],
   "source": [
    "taxi_modified[1800:1802, 7] = taxi_modified[:,7].mean()"
   ]
  },
  {
   "cell_type": "markdown",
   "metadata": {},
   "source": [
    "Boolean arrays become very powerful when we use them for assignment. Let's look at an example:\n",
    "\n",
    "        # calculate the average speed\n",
    "        trip_mph = taxi[:,7] / (taxi[:,8] / 3600)\n",
    "        a2 = np.array([1, 2, 3, 4, 5])\n",
    "        ​\n",
    "        a2_bool = a2 > 2\n",
    "        ​\n",
    "        a2[a2_bool] = 99\n",
    "        ​\n",
    "        print(a2)\n",
    "        [ 1  2 99 99 99]\n",
    "The boolean array controls the values that the assignment applies to, and the other values remain unchanged. Let's look at how this code works:\n",
    "\n",
    "![img](https://s3.amazonaws.com/dq-content/290/bool_assignment_1.svg)"
   ]
  },
  {
   "cell_type": "code",
   "execution_count": 25,
   "metadata": {},
   "outputs": [],
   "source": [
    "#create a copy of taxi dataset\n",
    "\n",
    "taxi_copy = taxi.copy()"
   ]
  },
  {
   "cell_type": "markdown",
   "metadata": {},
   "source": [
    "1. Select the fourteenth column (index 13) in taxi_copy. Assign it to a variable named total_amount."
   ]
  },
  {
   "cell_type": "code",
   "execution_count": 26,
   "metadata": {},
   "outputs": [],
   "source": [
    "total_amount = taxi_copy[:,14]"
   ]
  },
  {
   "cell_type": "markdown",
   "metadata": {},
   "source": [
    "2. For rows where the value of total_amount is less than 0, use assignment to change the value to 0."
   ]
  },
  {
   "cell_type": "code",
   "execution_count": 27,
   "metadata": {},
   "outputs": [],
   "source": [
    "total_amount[total_amount < 0] = 0"
   ]
  },
  {
   "cell_type": "markdown",
   "metadata": {},
   "source": [
    "Next, we'll look at an example of assignment using a boolean array with two dimensions:\n",
    "\n",
    "![img](https://s3.amazonaws.com/dq-content/290/bool_assignment_2.svg)\n",
    "\n",
    "The b > 4 boolean operation produces a 2D boolean array which then controls the values that the assignment applies to.\n",
    "\n",
    "We can also use a 1D boolean array to perform assignment on a 2D array:\n",
    "\n",
    "![img](https://s3.amazonaws.com/dq-content/290/bool_assignment_3.svg)\n",
    "\n",
    "The c[:,1] > 2 boolean operation compares just one column's values and produces a 1D boolean array. We then use that boolean array as the row index for assignment, and 1 as the column index to specify the second column. Our boolean array is only applied to the second column, while all other values remaining unchanged.\n",
    "\n",
    "The pseudocode syntax for this code is as follows, first using an intermediate variable:\n",
    "\n",
    "    # calculate the average speed\n",
    "    trip_mph = taxi[:,7] / (taxi[:,8] / 3600)\n",
    "    bool = array[:, column_for_comparison] == value_for_comparison\n",
    "    array[bool, column_for_assignment] = new_value\n",
    "and then all in one line:\n",
    "\n",
    "    array[array[:, column_for_comparison] == value_for_comparison, column_for_assignment] = new_value\n",
    "    \n",
    "Create a new copy of our taxi dataset, taxi_modified with an additional column containing the value 0 for every row."
   ]
  },
  {
   "cell_type": "code",
   "execution_count": 29,
   "metadata": {},
   "outputs": [
    {
     "name": "stdout",
     "output_type": "stream",
     "text": [
      "[[2.016e+03 1.000e+00 1.000e+00 ... 6.999e+01 1.000e+00 0.000e+00]\n",
      " [2.016e+03 1.000e+00 1.000e+00 ... 5.430e+01 1.000e+00 0.000e+00]\n",
      " [2.016e+03 1.000e+00 1.000e+00 ... 3.780e+01 2.000e+00 0.000e+00]\n",
      " ...\n",
      " [2.016e+03 6.000e+00 3.000e+01 ... 6.334e+01 1.000e+00 0.000e+00]\n",
      " [2.016e+03 6.000e+00 3.000e+01 ... 4.475e+01 1.000e+00 0.000e+00]\n",
      " [2.016e+03 6.000e+00 3.000e+01 ... 5.484e+01 2.000e+00 0.000e+00]]\n"
     ]
    }
   ],
   "source": [
    "# create a new column filled with `0`.\n",
    "zeros = np.zeros([taxi.shape[0], 1])\n",
    "taxi_modified = np.concatenate([taxi, zeros], axis=1)\n",
    "print(taxi_modified)"
   ]
  },
  {
   "cell_type": "markdown",
   "metadata": {},
   "source": [
    "### Solve\n",
    "In our new column at index 15, assign the value 1 if the pickup_location_code (column index 5) corresponds to an airport location, leaving the value as 0 otherwise by performing these three operations:\n",
    "1. For rows where the value for the column index 5 is equal to 2 (JFK Airport), assign the value 1 to column index 15.\n",
    "2. For rows where the value for the column index 5 is equal to 3 (LaGuardia Airport), assign the value 1 to column index 15.\n",
    "3. For rows where the value for the column index 5 is equal to 5 (Newark Airport), assign the value 1 to column index 15."
   ]
  },
  {
   "cell_type": "code",
   "execution_count": 30,
   "metadata": {},
   "outputs": [],
   "source": [
    "# 1\n",
    "\n",
    "taxi_modified[taxi_modified[:,5] ==2, 15] = 1 "
   ]
  },
  {
   "cell_type": "code",
   "execution_count": 31,
   "metadata": {},
   "outputs": [],
   "source": [
    "# 2\n",
    "\n",
    "taxi_modified[taxi_modified[:,5] ==3, 15] = 1 "
   ]
  },
  {
   "cell_type": "code",
   "execution_count": 32,
   "metadata": {},
   "outputs": [],
   "source": [
    "# 3\n",
    "\n",
    "taxi_modified[taxi_modified[:,5] ==5, 15] = 1 "
   ]
  },
  {
   "cell_type": "markdown",
   "metadata": {},
   "source": [
    "### Challenge part 1\n",
    "To complete this task, we'll need to check if the dropoff_location_code column (column index 6) is equal to one of the following values:\n",
    "\n",
    "1. 2: JFK Airport\n",
    "2. 3: LaGuardia Airport\n",
    "3. 5: Newark Airport.\n",
    "\n",
    "#### Problem 1\n",
    "Using the original taxi ndarray, calculate how many trips had JFK Airport as their destination:\n",
    "- Use boolean indexing to select only the rows where the dropoff_location_code column (column index 6) has a value that corresponds to JFK. Assign the result to jfk.\n",
    "- Calculate how many rows are in the new jfk array and assign the result to jfk_count."
   ]
  },
  {
   "cell_type": "code",
   "execution_count": 42,
   "metadata": {},
   "outputs": [
    {
     "data": {
      "text/plain": [
       "11832"
      ]
     },
     "execution_count": 42,
     "metadata": {},
     "output_type": "execute_result"
    }
   ],
   "source": [
    "jfk = taxi[taxi[:,6] == 2]\n",
    "jfk_count = jfk.shape[0]\n",
    "jfk_count"
   ]
  },
  {
   "cell_type": "code",
   "execution_count": 43,
   "metadata": {},
   "outputs": [
    {
     "data": {
      "text/plain": [
       "16602"
      ]
     },
     "execution_count": 43,
     "metadata": {},
     "output_type": "execute_result"
    }
   ],
   "source": [
    "laguardia = taxi[taxi[:,6] == 3]\n",
    "laguardia_count = laguardia.shape[0]\n",
    "laguardia_count"
   ]
  },
  {
   "cell_type": "code",
   "execution_count": 44,
   "metadata": {},
   "outputs": [
    {
     "data": {
      "text/plain": [
       "63"
      ]
     },
     "execution_count": 44,
     "metadata": {},
     "output_type": "execute_result"
    }
   ],
   "source": [
    "newark = taxi[taxi[:,6] == 5]\n",
    "newark_count = newark.shape[0]\n",
    "newark_count"
   ]
  },
  {
   "cell_type": "markdown",
   "metadata": {},
   "source": [
    "Our calculations in the previous screen show that Laguardia is the most common airport for dropoffs in our data set."
   ]
  },
  {
   "cell_type": "markdown",
   "metadata": {},
   "source": [
    "### Challenge Part 2\n",
    "Our second and final challenge involves removing potentially bad data from our data set, and then calculating some descriptive statistics on the remaining \"clean\" data.\n",
    "\n",
    "We'll start by using boolean indexing to remove any rows that have an average speed for the trip greater than 100 mph (160 kph) which should remove the questionable data we have worked with over the past two missions. Then, we'll use array methods to calculate the mean for specific columns of the remaining data. The columns we're interested in are:\n",
    "\n",
    "1. trip_distance, at column index 7\n",
    "2. trip_length, at column index 8\n",
    "3. total_amount, at column index 13\n",
    "\n",
    "Instructions:\n",
    "- Create a new ndarray, cleaned_taxi, containing only rows for which the values of trip_mph are less than 100.\n",
    "- Calculate the mean of the trip_distance column of cleaned_taxi. Assign the result to mean_distance.\n",
    "- Calculate the mean of the trip_length column of cleaned_taxi. Assign the result to mean_length.\n",
    "- Calculate the mean of the total_amount column of cleaned_taxi. Assign the result to mean_total_amount."
   ]
  },
  {
   "cell_type": "code",
   "execution_count": 59,
   "metadata": {},
   "outputs": [],
   "source": [
    "# trip_mph formuala\n",
    "trip_mph = taxi[:,7] / (taxi[:,8] / 3600)"
   ]
  },
  {
   "cell_type": "code",
   "execution_count": 63,
   "metadata": {},
   "outputs": [],
   "source": [
    "cleaned_taxi = taxi[trip_mph < 100]"
   ]
  },
  {
   "cell_type": "code",
   "execution_count": 64,
   "metadata": {},
   "outputs": [],
   "source": [
    "mean_distance = cleaned_taxi[:,7].mean()"
   ]
  },
  {
   "cell_type": "code",
   "execution_count": 65,
   "metadata": {},
   "outputs": [],
   "source": [
    "mean_length = cleaned_taxi[:,8].mean()"
   ]
  },
  {
   "cell_type": "code",
   "execution_count": 66,
   "metadata": {},
   "outputs": [],
   "source": [
    "mean_total_amount = cleaned_taxi[:,-2].mean()"
   ]
  },
  {
   "cell_type": "markdown",
   "metadata": {},
   "source": [
    "# Syntax\n",
    "\n",
    "## READING CSV FILES WITH NUMPY\n",
    "Reading in a CSV file:\n",
    "\n",
    "    import numpy as np\n",
    "    taxi = np.genfromtxt('nyctaxis.csv', delimiter=',', skip_header=1)\n",
    "\n",
    "## BOOLEAN ARRAYS\n",
    "Creating a Boolean array from filtering criteria:\n",
    "\n",
    "    np.array([2,4,6,8]) < 5\n",
    "\n",
    "Boolean filtering for 1D ndarray:\n",
    "\n",
    "    a = np.array([2,4,6,8])\n",
    "    filter = a < 5\n",
    "    a[filter]\n",
    "\n",
    "Boolean filtering for 2D ndarray:\n",
    "\n",
    "    tip_amount = taxi[:,12]\n",
    "    tip_bool = tip_amount > 50\n",
    "    top_tips = taxi[tip_bool, 5:14]\n",
    "\n",
    "## ASSIGNING VALUES\n",
    "Assigning values in a 2D ndarray using indices:\n",
    "\n",
    "    taxi[28214,5] = 1\n",
    "    taxi[:,0] = 16\n",
    "    taxi[1800:1802,7] = taxi[:,7].mean()\n",
    "\n",
    "Assigning values using Boolean arrays:\n",
    "\n",
    "    taxi[taxi[:, 5] == 2, 15] = 1\n",
    "\n",
    "# Concepts\n",
    "Selecting values from a ndarray using Boolean arrays is very powerful. Using Boolean arrays helps us think in terms of filters on the data, instead of specific index values (like we did when working with Python lists).\n",
    "\n",
    "# Resources\n",
    "1. [Reading a CSV file into NumPy](https://docs.scipy.org/doc/numpy-1.14.2/reference/generated/numpy.genfromtxt.html#numpy.genfromtxt)\n",
    "2. [Indexing and selecting data](https://docs.scipy.org/doc/numpy/reference/arrays.indexing.html)"
   ]
  },
  {
   "cell_type": "code",
   "execution_count": null,
   "metadata": {},
   "outputs": [],
   "source": []
  }
 ],
 "metadata": {
  "kernelspec": {
   "display_name": "Python 3",
   "language": "python",
   "name": "python3"
  },
  "language_info": {
   "codemirror_mode": {
    "name": "ipython",
    "version": 3
   },
   "file_extension": ".py",
   "mimetype": "text/x-python",
   "name": "python",
   "nbconvert_exporter": "python",
   "pygments_lexer": "ipython3",
   "version": "3.7.1"
  },
  "toc": {
   "base_numbering": 1,
   "nav_menu": {},
   "number_sections": true,
   "sideBar": true,
   "skip_h1_title": false,
   "title_cell": "Table of Contents",
   "title_sidebar": "Contents",
   "toc_cell": false,
   "toc_position": {},
   "toc_section_display": true,
   "toc_window_display": false
  },
  "varInspector": {
   "cols": {
    "lenName": 16,
    "lenType": 16,
    "lenVar": 40
   },
   "kernels_config": {
    "python": {
     "delete_cmd_postfix": "",
     "delete_cmd_prefix": "del ",
     "library": "var_list.py",
     "varRefreshCmd": "print(var_dic_list())"
    },
    "r": {
     "delete_cmd_postfix": ") ",
     "delete_cmd_prefix": "rm(",
     "library": "var_list.r",
     "varRefreshCmd": "cat(var_dic_list()) "
    }
   },
   "types_to_exclude": [
    "module",
    "function",
    "builtin_function_or_method",
    "instance",
    "_Feature"
   ],
   "window_display": false
  }
 },
 "nbformat": 4,
 "nbformat_minor": 2
}
