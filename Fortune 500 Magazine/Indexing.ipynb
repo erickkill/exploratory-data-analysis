{
 "cells": [
  {
   "cell_type": "markdown",
   "metadata": {},
   "source": [
    "## iloc\n",
    "As a reminder, the full syntax for DataFrame.iloc[] in pseudocode is:\n",
    "\n",
    "    df.iloc[row_index,column_index]\n",
    "    \n",
    "Recall that loc[] handles slicing differently:\n",
    "\n",
    "With loc[], the ending slice is included.\n",
    "With iloc[], the ending slice is not included.\n",
    "The table below summarizes how we can use DataFrame.iloc[] and Series.iloc[] to select by integer position:\n",
    "\n",
    "Select by integer position      Explicit Syntax      Shorthand Convention\n",
    "Single column from dataframe    df.iloc[:,3]\t\n",
    "List of columns from dataframe  df.iloc[:,[3,5,6]]\t\n",
    "Slice of columns from dataframe df.iloc[:,3:7]\t\n",
    "Single row from dataframe       df.iloc[20]\t\n",
    "List of rows from dataframe     df.iloc[[0,3,8]]\t\n",
    "Slice of rows from dataframe    df.iloc[3:5]         df[3:5]\n",
    "Single items from series        s.iloc[8]            s[8]\n",
    "List of item from series        s.iloc[[2,8,1]]      s[[2,8,1]]\n",
    "Slice of items from series      s.iloc[5:10]         s[5:10]\n",
    "\n",
    "Always think carefully about whether you want to select by label or integer position. Use DataFrame.loc[] or DataFrame.iloc[] accordingly.\n",
    "\n",
    "![img](https://s3.amazonaws.com/dq-content/292/integer_labels_2.svg)\n",
    "\n",
    "Another powerful aspect of pandas is that almost every operation will align on the index labels. Let's look at an example – below we have a dataframe named food and a series named alt_name:\n",
    "\n",
    "![img](https://s3.amazonaws.com/dq-content/292/align_index_1_updated.svg)\n",
    "\n",
    "The food dataframe and the alt_name series not only have a different number of items, but they also only have two of the same index labels - corn and eggplant - and they're in different orders. If we wanted to add alt_name as a new column in our food dataframe, we can use the following code:\n",
    "\n",
    "    food[\"alt_name\"] = alt_name\n",
    "When we do this, pandas will ignore the order of the alt_name series, and align on the index labels:\n",
    "\n",
    "![img](https://s3.amazonaws.com/dq-content/292/align_index_2_updated.svg)\n",
    "\n",
    "Pandas will also:\n",
    "\n",
    "- Discard any items that have an index that doesn't match the dataframe (like arugula).\n",
    "- Fill any remaining rows with NaN.\n",
    "\n",
    "Below is the result:\n",
    "\n",
    "![img](https://s3.amazonaws.com/dq-content/292/align_index_5_updated.svg)\n",
    "\n",
    "The pandas library will align on index at every opportunity, no matter if our index labels are strings or integers - this makes working with data from different sources or working with data when we have removed, added, or reordered rows much easier than it would be otherwise."
   ]
  },
  {
   "cell_type": "markdown",
   "metadata": {},
   "source": [
    "## Boolean indexing\n",
    "\n",
    "Boolean indexing is a powerful tool which allows us to select or exclude parts of our data based on their values. However, to answer more complex questions, we need to learn how to combine boolean arrays.\n",
    "\n",
    "To recap, boolean arrays are created using any of the Python standard comparison operators: == (equal), > (greater than), < (less than), != (not equal).\n",
    "\n",
    "We combine boolean arrays using boolean operators. In Python, these boolean operators are and, or, and not. In pandas, the operators are slightly different:\n",
    "\n",
    "pandas     Python equivalent     Meaning\n",
    "a & b      a and b               True if both a and b are True, else False\n",
    "a | b      a or b                True if either a or b is True\n",
    "~a         not a                 True if a is False, else False\n",
    "\n",
    "Let's look at an example using f500_sel, a small selection of our f500 dataframe:\n",
    "\n",
    "![boolean operators example 1](https://s3.amazonaws.com/dq-content/292/bool_ops_1.svg)\n",
    "\n",
    "Suppose we wanted to find the companies in f500_sel with more than 265 billion in revenue that are headquartered in China. We'll start by performing two boolean comparisons to produce two separate boolean arrays (the revenue column is already in millions).\n",
    "\n",
    "![boolean operators example 2](https://s3.amazonaws.com/dq-content/292/bool_ops_2.svg)\n",
    "\n",
    "We then use the & operator to combine the two boolean arrays using boolean \"and\" logic:\n",
    "\n",
    "![boolean operators example 3](https://s3.amazonaws.com/dq-content/292/bool_ops_3.svg)\n",
    "\n",
    "Lastly, we use the combined boolean array to perform selection on our dataframe:\n",
    "\n",
    "![boolean operators example 4](https://s3.amazonaws.com/dq-content/292/bool_ops_4.svg)"
   ]
  }
 ],
 "metadata": {
  "kernelspec": {
   "display_name": "Python 3",
   "language": "python",
   "name": "python3"
  },
  "language_info": {
   "codemirror_mode": {
    "name": "ipython",
    "version": 3
   },
   "file_extension": ".py",
   "mimetype": "text/x-python",
   "name": "python",
   "nbconvert_exporter": "python",
   "pygments_lexer": "ipython3",
   "version": "3.7.1"
  },
  "toc": {
   "base_numbering": 1,
   "nav_menu": {},
   "number_sections": true,
   "sideBar": true,
   "skip_h1_title": false,
   "title_cell": "Table of Contents",
   "title_sidebar": "Contents",
   "toc_cell": false,
   "toc_position": {},
   "toc_section_display": true,
   "toc_window_display": false
  },
  "varInspector": {
   "cols": {
    "lenName": 16,
    "lenType": 16,
    "lenVar": 40
   },
   "kernels_config": {
    "python": {
     "delete_cmd_postfix": "",
     "delete_cmd_prefix": "del ",
     "library": "var_list.py",
     "varRefreshCmd": "print(var_dic_list())"
    },
    "r": {
     "delete_cmd_postfix": ") ",
     "delete_cmd_prefix": "rm(",
     "library": "var_list.r",
     "varRefreshCmd": "cat(var_dic_list()) "
    }
   },
   "types_to_exclude": [
    "module",
    "function",
    "builtin_function_or_method",
    "instance",
    "_Feature"
   ],
   "window_display": false
  }
 },
 "nbformat": 4,
 "nbformat_minor": 2
}
